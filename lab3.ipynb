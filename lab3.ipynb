{
 "cells": [
  {
   "cell_type": "code",
   "execution_count": 2,
   "id": "16d380f8-9053-427d-bee6-40199ca8f08f",
   "metadata": {},
   "outputs": [
    {
     "name": "stdin",
     "output_type": "stream",
     "text": [
      "enter color to be searched: green\n"
     ]
    },
    {
     "name": "stdout",
     "output_type": "stream",
     "text": [
      "color presented\n"
     ]
    }
   ],
   "source": [
    "#search an element in list\n",
    "l1=[\"red\",\"yellow\",\"green\",\"white\",\"black\",\"pink\"]\n",
    "color=input(\"enter color to be searched:\")\n",
    "count=0\n",
    "for data in l1:\n",
    "    if data==color:\n",
    "        print(\"color presented\")\n",
    "        count+=1\n",
    "if count==0:\n",
    "    print(\"not found\")\n"
   ]
  },
  {
   "cell_type": "code",
   "execution_count": 6,
   "id": "94eebe56-cb86-47d3-b5b9-5d9683fadd25",
   "metadata": {},
   "outputs": [
    {
     "name": "stdin",
     "output_type": "stream",
     "text": [
      "color to be deleted: red\n"
     ]
    },
    {
     "ename": "ValueError",
     "evalue": "list.remove(x): x not in list",
     "output_type": "error",
     "traceback": [
      "\u001b[1;31m---------------------------------------------------------------------------\u001b[0m",
      "\u001b[1;31mValueError\u001b[0m                                Traceback (most recent call last)",
      "\u001b[1;32m~\\AppData\\Local\\Temp/ipykernel_13688/4095756204.py\u001b[0m in \u001b[0;36m<module>\u001b[1;34m\u001b[0m\n\u001b[0;32m      1\u001b[0m \u001b[1;31m#delete an element from the list\u001b[0m\u001b[1;33m\u001b[0m\u001b[1;33m\u001b[0m\u001b[0m\n\u001b[0;32m      2\u001b[0m \u001b[0mcolor\u001b[0m\u001b[1;33m=\u001b[0m\u001b[0minput\u001b[0m\u001b[1;33m(\u001b[0m\u001b[1;34m\"color to be deleted:\"\u001b[0m\u001b[1;33m)\u001b[0m\u001b[1;33m\u001b[0m\u001b[1;33m\u001b[0m\u001b[0m\n\u001b[1;32m----> 3\u001b[1;33m \u001b[0ml1\u001b[0m\u001b[1;33m.\u001b[0m\u001b[0mremove\u001b[0m\u001b[1;33m(\u001b[0m\u001b[0mcolor\u001b[0m\u001b[1;33m)\u001b[0m\u001b[1;33m\u001b[0m\u001b[1;33m\u001b[0m\u001b[0m\n\u001b[0m\u001b[0;32m      4\u001b[0m \u001b[0mprint\u001b[0m\u001b[1;33m(\u001b[0m\u001b[1;34m\"%s color is deleted\"\u001b[0m\u001b[1;33m%\u001b[0m\u001b[0mcolor\u001b[0m\u001b[1;33m)\u001b[0m\u001b[1;33m\u001b[0m\u001b[1;33m\u001b[0m\u001b[0m\n\u001b[0;32m      5\u001b[0m \u001b[0ml1\u001b[0m\u001b[1;33m\u001b[0m\u001b[1;33m\u001b[0m\u001b[0m\n",
      "\u001b[1;31mValueError\u001b[0m: list.remove(x): x not in list"
     ]
    }
   ],
   "source": [
    "#delete an element from the list\n",
    "color=input(\"color to be deleted:\")\n",
    "l1.remove(color)\n",
    "print(\"%s color is deleted\"%color)\n",
    "l1\n",
    "#if color is not found or deleted already than there will be an error on using remove() func.=> x not in list"
   ]
  },
  {
   "cell_type": "code",
   "execution_count": 6,
   "id": "198248c8-1d58-46e1-b675-9dc85944002d",
   "metadata": {},
   "outputs": [
    {
     "name": "stdin",
     "output_type": "stream",
     "text": [
      "enter color to be searched yellow\n"
     ]
    },
    {
     "name": "stdout",
     "output_type": "stream",
     "text": [
      "color presented\n",
      "yellow is removed from the list\n",
      "remaining list is: ['red', 'green', 'white', 'black', 'pink']\n"
     ]
    }
   ],
   "source": [
    "#TO delete a color search an element in list\n",
    "l1=[\"red\",\"yellow\",\"green\",\"white\",\"black\",\"pink\"]\n",
    "color=input(\"enter color to be searched\")\n",
    "count=0\n",
    "for data in l1:\n",
    "    if data==color:\n",
    "        print(\"color presented\")\n",
    "        l1.remove(color)\n",
    "        print(f\"{color} is removed from the list\")\n",
    "        print(\"remaining list is:\",l1)\n",
    "        count+=1\n",
    "if count==0:\n",
    "    print(\"not found\")\n"
   ]
  },
  {
   "cell_type": "code",
   "execution_count": 8,
   "id": "44ceb01a-8bc6-460b-a73a-20bb4e7024aa",
   "metadata": {},
   "outputs": [
    {
     "name": "stdout",
     "output_type": "stream",
     "text": [
      "['red', 'yellow', 'green', 'white', 'black', 'pink']\n"
     ]
    },
    {
     "name": "stdin",
     "output_type": "stream",
     "text": [
      "enter color to be replaced: white\n",
      "enter color to be replaced with: blue\n"
     ]
    },
    {
     "name": "stdout",
     "output_type": "stream",
     "text": [
      "color presented\n",
      "white is presented at index: 3\n",
      "new list: ['red', 'yellow', 'green', 'blue', 'black', 'pink']\n"
     ]
    }
   ],
   "source": [
    "#update the value of list:\n",
    "l1=[\"red\",\"yellow\",\"green\",\"white\",\"black\",\"pink\"]\n",
    "print(l1)\n",
    "color1=input(\"enter color to be replaced:\")\n",
    "color2=input(\"enter color to be replaced with:\")\n",
    "count=0\n",
    "for i in range(0,len(l1)):\n",
    "    if l1[i]==color1:\n",
    "        print(\"color presented\")\n",
    "        print(f\"{color1} is presented at index:\",i)\n",
    "        count+=1\n",
    "        l1[i]=color2\n",
    "        print(\"new list:\",l1)\n",
    "if count==0:\n",
    "    print(\"not found\")\n"
   ]
  },
  {
   "cell_type": "code",
   "execution_count": 13,
   "id": "3b9cc7ae-03d8-4514-b2a5-da2c80f00821",
   "metadata": {},
   "outputs": [
    {
     "data": {
      "text/plain": [
       "['red', 'yellow', 'blue', 'white', 'black', 'pink']"
      ]
     },
     "execution_count": 13,
     "metadata": {},
     "output_type": "execute_result"
    }
   ],
   "source": [
    "l1"
   ]
  },
  {
   "cell_type": "code",
   "execution_count": 17,
   "id": "e79e27e8-c018-4dad-9061-170b8cd99330",
   "metadata": {},
   "outputs": [
    {
     "name": "stdout",
     "output_type": "stream",
     "text": [
      "['gray', 'yellow', 'blue', 'white', 'black', 'pink']\n"
     ]
    },
    {
     "name": "stdin",
     "output_type": "stream",
     "text": [
      "color to update: yellow\n",
      "color to update with: red\n"
     ]
    },
    {
     "name": "stdout",
     "output_type": "stream",
     "text": [
      "['gray', 'red', 'blue', 'white', 'black', 'pink']\n"
     ]
    }
   ],
   "source": [
    "#previous problem with list.index() function\n",
    "print(l1)\n",
    "count=0\n",
    "color=input(\"color to update:\")\n",
    "update=input(\"color to update with:\")\n",
    "for data in l1:\n",
    "    if data==color:\n",
    "        ind=l1.index(color)\n",
    "        l1[ind]=update\n",
    "        count+=1\n",
    "if count==0:\n",
    "    print(\"color is not presented\")\n",
    "print(l1)"
   ]
  },
  {
   "cell_type": "code",
   "execution_count": 20,
   "id": "97a671c4-fd30-4122-ac2a-a0c7f3eba960",
   "metadata": {},
   "outputs": [
    {
     "name": "stdout",
     "output_type": "stream",
     "text": [
      "dict_keys([1, 2, 3])\n",
      "dict_values(['red', 'blue', 'green'])\n",
      "dict_items([(1, 'red'), (2, 'blue'), (3, 'green')])\n"
     ]
    }
   ],
   "source": [
    "#dictionary\n",
    "d={1:\"red\",2:\"blue\",3:\"green\"}\n",
    "print(d.keys())#to print keys of dict\n",
    "print(d.values())\n",
    "print(d.items())"
   ]
  },
  {
   "cell_type": "code",
   "execution_count": 21,
   "id": "f0b8277b-cd22-4a9d-ac38-8c5f0d3fdda5",
   "metadata": {},
   "outputs": [
    {
     "data": {
      "text/plain": [
       "{1: 'red', 2: 'blue', 3: 'green', 4: 'pink'}"
      ]
     },
     "execution_count": 21,
     "metadata": {},
     "output_type": "execute_result"
    }
   ],
   "source": [
    "d[4]=\"pink\"#new entry\n",
    "d"
   ]
  },
  {
   "cell_type": "code",
   "execution_count": 22,
   "id": "d82d153d-b155-42bf-a065-e67454531de2",
   "metadata": {},
   "outputs": [
    {
     "data": {
      "text/plain": [
       "{1: 'red', 2: 'blue', 3: 'red', 4: 'pink'}"
      ]
     },
     "execution_count": 22,
     "metadata": {},
     "output_type": "execute_result"
    }
   ],
   "source": [
    "d[3]=\"red\"#update in already presented \n",
    "d"
   ]
  },
  {
   "cell_type": "code",
   "execution_count": 29,
   "id": "a9fa6aff-ff6c-4875-8c0a-f6de08096bb8",
   "metadata": {},
   "outputs": [],
   "source": [
    "li=[{\"id\":1,\"name\":\"akash\",\"contact\":\"1234123412\",\"class\":\"I year\"},\n",
    "    {\"id\":2,\"name\":\"anil\",\"contact\":\"3456335667\",\"class\":\"II year\"},\n",
    "    {\"id\":3,\"name\":\"amit\",\"contact\":\"1234127898\",\"class\":\"III year\"},\n",
    "    {\"id\":4,\"name\":\"ankit\",\"contact\":\"1234124565\",\"class\":\"IV year\"},\n",
    "   ]"
   ]
  },
  {
   "cell_type": "code",
   "execution_count": 30,
   "id": "6fbbf8b9-3f06-4c35-9aa0-5a9aa4682f3e",
   "metadata": {},
   "outputs": [
    {
     "data": {
      "text/plain": [
       "[{'id': 1, 'name': 'akash', 'contact': '1234123412', 'class': 'I year'},\n",
       " {'id': 2, 'name': 'anil', 'contact': '3456335667', 'class': 'II year'},\n",
       " {'id': 3, 'name': 'amit', 'contact': '1234127898', 'class': 'III year'},\n",
       " {'id': 4, 'name': 'ankit', 'contact': '1234124565', 'class': 'IV year'}]"
      ]
     },
     "execution_count": 30,
     "metadata": {},
     "output_type": "execute_result"
    }
   ],
   "source": [
    "li"
   ]
  },
  {
   "cell_type": "code",
   "execution_count": 33,
   "id": "462a5da2-9303-4821-9118-c579b0738640",
   "metadata": {},
   "outputs": [],
   "source": [
    "#how to search a data\n",
    "def SearchStudent(li):\n",
    "    counter=0\n",
    "    name=input(\"enter student name:\")\n",
    "    for data in li:\n",
    "        if data[\"name\"]==name:\n",
    "            print(data)\n",
    "            counter+=1\n",
    "    if counter==0:\n",
    "        print(\"not found\")"
   ]
  },
  {
   "cell_type": "code",
   "execution_count": 34,
   "id": "e3994aa6-36b8-4c1e-baa1-3ff3836cf963",
   "metadata": {},
   "outputs": [
    {
     "name": "stdin",
     "output_type": "stream",
     "text": [
      "enter student name: amit\n"
     ]
    },
    {
     "name": "stdout",
     "output_type": "stream",
     "text": [
      "{'id': 3, 'name': 'amit', 'contact': '1234127898', 'class': 'III year'}\n"
     ]
    }
   ],
   "source": [
    "SearchStudent(li)"
   ]
  },
  {
   "cell_type": "code",
   "execution_count": 35,
   "id": "4f85bea3-7e22-4f75-9557-dd20bc8e5f2c",
   "metadata": {},
   "outputs": [
    {
     "name": "stdin",
     "output_type": "stream",
     "text": [
      "enter student name: abhi\n"
     ]
    },
    {
     "name": "stdout",
     "output_type": "stream",
     "text": [
      "not found\n"
     ]
    }
   ],
   "source": [
    "SearchStudent(li)"
   ]
  },
  {
   "cell_type": "code",
   "execution_count": 38,
   "id": "136d9e8e-6329-4ae3-bdbc-9ba3c3e67855",
   "metadata": {},
   "outputs": [],
   "source": [
    "#based on the name update the contact number\n",
    "def updateContact(li):\n",
    "    counter=0\n",
    "    name=input(\"enter student name:\")\n",
    "    for data in li:\n",
    "        if data[\"name\"]==name:\n",
    "            print(data)\n",
    "            counter+=1\n",
    "            NewContact=input(\"enter new number:\")\n",
    "            data[\"contact\"]=NewContact\n",
    "            print(data)\n",
    "    if counter==0:\n",
    "        print(\"not found\")\n",
    "    "
   ]
  },
  {
   "cell_type": "code",
   "execution_count": 39,
   "id": "3f2c216d-8b7e-4828-a3ef-427e595c6888",
   "metadata": {},
   "outputs": [
    {
     "name": "stdin",
     "output_type": "stream",
     "text": [
      "enter student name: amit\n"
     ]
    },
    {
     "name": "stdout",
     "output_type": "stream",
     "text": [
      "{'id': 3, 'name': 'amit', 'contact': '1234127898', 'class': 'III year'}\n"
     ]
    },
    {
     "name": "stdin",
     "output_type": "stream",
     "text": [
      "enter new number: 1212121212\n"
     ]
    },
    {
     "name": "stdout",
     "output_type": "stream",
     "text": [
      "{'id': 3, 'name': 'amit', 'contact': '1212121212', 'class': 'III year'}\n"
     ]
    }
   ],
   "source": [
    "updateContact(li)"
   ]
  },
  {
   "cell_type": "code",
   "execution_count": 41,
   "id": "10844642-e915-4db5-8396-a18fe0d15e5a",
   "metadata": {},
   "outputs": [],
   "source": [
    "def calculate(a,b,operator):\n",
    "    if(operator=='+'):\n",
    "        print(\"sum is:\",a+b)\n",
    "    elif (operator==\"-\"):\n",
    "        print(\"subtraction is:\",a-b)\n",
    "    elif (operator=='*'):\n",
    "        print(\"multiplication is:\",a*b)\n",
    "    elif (operator==\"/\"):\n",
    "        print(\"division is:\",a/b)\n",
    "    else:\n",
    "        print(\"invalid operator\")\n",
    "        "
   ]
  },
  {
   "cell_type": "code",
   "execution_count": 43,
   "id": "9674e5ce-ef1f-46b5-bf71-696cf8b822c2",
   "metadata": {},
   "outputs": [
    {
     "name": "stdout",
     "output_type": "stream",
     "text": [
      "sum is: 30\n"
     ]
    }
   ],
   "source": [
    "calculate(10,20,\"+\")"
   ]
  },
  {
   "cell_type": "code",
   "execution_count": 44,
   "id": "986565c1-3c54-4b79-8dc2-ae87cf71fd1b",
   "metadata": {},
   "outputs": [
    {
     "name": "stdout",
     "output_type": "stream",
     "text": [
      "subtraction is: 15\n"
     ]
    }
   ],
   "source": [
    "calculate(20,5,\"-\")"
   ]
  },
  {
   "cell_type": "code",
   "execution_count": 59,
   "id": "d807d607-c418-44aa-b2d9-dfc183e2aa99",
   "metadata": {},
   "outputs": [],
   "source": [
    "def area():\n",
    "    n=int(input(\"enter 1 for circle and 2 for triangle\"))\n",
    "    if n==1:\n",
    "        rad=float(input(\"enter radius:\"))           \n",
    "        print(\"area is:\",3.1415*rad**2)\n",
    "    elif n==2:\n",
    "        base=float(input(\"enter base length:\"))\n",
    "        height=float(input(\"enter height length:\"))\n",
    "        print(\"area is:\",0.5*base*height)"
   ]
  },
  {
   "cell_type": "code",
   "execution_count": 61,
   "id": "40679d71-3c16-4c58-91a1-0bb8b13df22b",
   "metadata": {},
   "outputs": [
    {
     "name": "stdin",
     "output_type": "stream",
     "text": [
      "enter 1 for circle and 2 for triangle 2\n",
      "enter base length: 10\n",
      "enter height length: 10\n"
     ]
    },
    {
     "name": "stdout",
     "output_type": "stream",
     "text": [
      "area is: 50.0\n"
     ]
    }
   ],
   "source": [
    "area()"
   ]
  },
  {
   "cell_type": "code",
   "execution_count": 69,
   "id": "9060d4e9-828e-4f86-a1ec-edce56b9fe93",
   "metadata": {},
   "outputs": [],
   "source": [
    "def checkNature():\n",
    "    n=int(input(\"enter a value:\"))\n",
    "    if n%2==1:\n",
    "        print(\"entered number is odd number\")\n",
    "    else:\n",
    "        print(\"entered number is even number\")"
   ]
  },
  {
   "cell_type": "code",
   "execution_count": 70,
   "id": "83d6face-da84-42ce-b18a-c19739b8df72",
   "metadata": {},
   "outputs": [
    {
     "name": "stdin",
     "output_type": "stream",
     "text": [
      "enter a value: 19\n"
     ]
    },
    {
     "name": "stdout",
     "output_type": "stream",
     "text": [
      "entered number is odd number\n"
     ]
    }
   ],
   "source": [
    "checkNature()"
   ]
  },
  {
   "cell_type": "code",
   "execution_count": 71,
   "id": "bdd9092f-2e78-412e-9bde-7831af29cd84",
   "metadata": {},
   "outputs": [
    {
     "name": "stdin",
     "output_type": "stream",
     "text": [
      "enter a value: 12\n"
     ]
    },
    {
     "name": "stdout",
     "output_type": "stream",
     "text": [
      "entered number is even number\n"
     ]
    }
   ],
   "source": [
    "checkNature()"
   ]
  },
  {
   "cell_type": "code",
   "execution_count": 9,
   "id": "f30940c4-0ad1-46ae-b084-2b84f1b0c718",
   "metadata": {},
   "outputs": [],
   "source": [
    "import math\n",
    "def checkPrime():\n",
    "    n=int(input(\"enter a value:\"))\n",
    "    for i in range(2,n):\n",
    "        if n%i==0:\n",
    "            print(\"not a prime number\")\n",
    "            break\n",
    "    if n==i+1:\n",
    "        #print(i)\n",
    "        print(\"it's a prime number\")"
   ]
  },
  {
   "cell_type": "code",
   "execution_count": 10,
   "id": "78d0350b-d382-4b45-8543-4ee52b4a4a2a",
   "metadata": {},
   "outputs": [
    {
     "name": "stdin",
     "output_type": "stream",
     "text": [
      "enter a value: 41\n"
     ]
    },
    {
     "name": "stdout",
     "output_type": "stream",
     "text": [
      "40\n",
      "it's a prime number\n"
     ]
    }
   ],
   "source": [
    "checkPrime()"
   ]
  },
  {
   "cell_type": "code",
   "execution_count": 19,
   "id": "d2f0b5da-344e-41c8-a50a-5028a686be00",
   "metadata": {},
   "outputs": [],
   "source": [
    "#function to solve cubic polynomial;\n",
    "def cubicRoots():\n",
    "    import numpy as np\n",
    "    a=int(input(\"coeff. of x^3:\"))\n",
    "    b=int(input(\"coeff. of x^2:\"))\n",
    "    c=int(input(\"coeff. of x:\"))\n",
    "    d=int(input(\"constant:\"))\n",
    "    p=np.poly1d([a,b,c,d])\n",
    "    print()\n",
    "    print(f\"polynomial is:\")\n",
    "    print()\n",
    "    print(p)\n",
    "    root=p.roots\n",
    "    print(\"roots are:-\",root)"
   ]
  },
  {
   "cell_type": "code",
   "execution_count": 21,
   "id": "033264d2-475b-4aee-8a90-13f5ebc9017b",
   "metadata": {},
   "outputs": [
    {
     "name": "stdin",
     "output_type": "stream",
     "text": [
      "coeff. of x^3: 1\n",
      "coeff. of x^2: 8\n",
      "coeff. of x: 19\n",
      "constant: 12\n"
     ]
    },
    {
     "name": "stdout",
     "output_type": "stream",
     "text": [
      "\n",
      "polynomial is:\n",
      "\n",
      "   3     2\n",
      "1 x + 8 x + 19 x + 12\n",
      "roots are:- [-4. -3. -1.]\n"
     ]
    }
   ],
   "source": [
    "cubicRoots()"
   ]
  },
  {
   "cell_type": "code",
   "execution_count": 29,
   "id": "5d0e9dfb-1ce1-41a5-b3ed-9a889b2a2c28",
   "metadata": {},
   "outputs": [],
   "source": [
    "#function to add two lists:\n",
    "def addLists():\n",
    "    l1=[]\n",
    "    l2=[]\n",
    "    l3=[]\n",
    "    x=0\n",
    "    n=int(input(\"size of lists:\"))\n",
    "    print(\"put the data into first list:\")\n",
    "    for i in range(n):\n",
    "        x=int(input())\n",
    "        l1.append(x)\n",
    "    print(\"put the data into second list:\")\n",
    "    for i in range(n):\n",
    "        x=int(input())\n",
    "        l2.append(x)\n",
    "    print(\"addition of these lists is:\")\n",
    "    for i in range (n):\n",
    "        x=l1[i]+l2[i]\n",
    "        l3.append(x)\n",
    "    print(l3)"
   ]
  },
  {
   "cell_type": "code",
   "execution_count": 30,
   "id": "fe50cd81-6fbc-42f8-9911-fb9f827e7973",
   "metadata": {},
   "outputs": [
    {
     "name": "stdin",
     "output_type": "stream",
     "text": [
      "size of lists: 3\n"
     ]
    },
    {
     "name": "stdout",
     "output_type": "stream",
     "text": [
      "put the data into first list:\n"
     ]
    },
    {
     "name": "stdin",
     "output_type": "stream",
     "text": [
      " 1\n",
      " 2\n",
      " 3\n"
     ]
    },
    {
     "name": "stdout",
     "output_type": "stream",
     "text": [
      "put the data into second list:\n"
     ]
    },
    {
     "name": "stdin",
     "output_type": "stream",
     "text": [
      " 3\n",
      " 2\n",
      " 1\n"
     ]
    },
    {
     "name": "stdout",
     "output_type": "stream",
     "text": [
      "addition of these lists is:\n",
      "[4, 4, 4]\n"
     ]
    }
   ],
   "source": [
    "addLists()\n"
   ]
  },
  {
   "cell_type": "code",
   "execution_count": 32,
   "id": "b9376e1c-40a4-4c0f-9f78-94d24d7606c6",
   "metadata": {},
   "outputs": [],
   "source": [
    "#function to calculate gross salary:\n",
    "def grossSalary():\n",
    "    bs=int(input(\"enter basic salary:\"))\n",
    "    ta=int(input(\"enter travel allowance:\"))\n",
    "    hra=int(input(\"enter house rent allowence:\"))\n",
    "    da=0#da is dearness allowence\n",
    "    gs=0\n",
    "    if bs>25000:\n",
    "        da=.1*bs\n",
    "    else :\n",
    "        da=.05*bs\n",
    "    gs=bs+ta+hra+da\n",
    "    print(\"gross salary is:\",gs)"
   ]
  },
  {
   "cell_type": "code",
   "execution_count": 33,
   "id": "52952fb7-0018-42ca-b39f-c73684bff931",
   "metadata": {},
   "outputs": [
    {
     "name": "stdin",
     "output_type": "stream",
     "text": [
      "enter basic salary: 20000\n",
      "enter travel allowance: 10000\n",
      "enter house rent allowence: 10000\n"
     ]
    },
    {
     "name": "stdout",
     "output_type": "stream",
     "text": [
      "gross salary is: 41000.0\n"
     ]
    }
   ],
   "source": [
    "grossSalary()"
   ]
  },
  {
   "cell_type": "code",
   "execution_count": 34,
   "id": "7e5539ca-ab34-4fe4-b669-8d381629f6d7",
   "metadata": {},
   "outputs": [],
   "source": [
    "#function in python to sum of all element inside list:\n",
    "def sumList(l):\n",
    "    sum=0\n",
    "    for x in l:\n",
    "        sum=sum+x\n",
    "    print(f\"sum is {sum}\")"
   ]
  },
  {
   "cell_type": "code",
   "execution_count": 36,
   "id": "c0e89aa3-ae33-45fd-9fc4-0e165f551c33",
   "metadata": {},
   "outputs": [
    {
     "name": "stdout",
     "output_type": "stream",
     "text": [
      "sum is 10\n"
     ]
    }
   ],
   "source": [
    "sumList([1,2,3,4])"
   ]
  },
  {
   "cell_type": "code",
   "execution_count": 37,
   "id": "53defaa4-fbf9-44a2-ab59-4ef786cd216e",
   "metadata": {},
   "outputs": [],
   "source": [
    "#function in python to Swap of two Numbers:\n",
    "def swap(a,b):\n",
    "    a=b\n",
    "    b=a\n",
    "    print(f\"a is now {a} and b is now {b}\")"
   ]
  },
  {
   "cell_type": "code",
   "execution_count": 38,
   "id": "ddf70443-4921-4fae-8ad9-91651ea09bd3",
   "metadata": {},
   "outputs": [
    {
     "name": "stdout",
     "output_type": "stream",
     "text": [
      "a is now 20 and b is now 20\n"
     ]
    }
   ],
   "source": [
    "swap(10,20)"
   ]
  },
  {
   "cell_type": "code",
   "execution_count": 10,
   "id": "2071eb1b-a744-4554-a099-265ed627e2cf",
   "metadata": {},
   "outputs": [],
   "source": [
    "#Write a function in python to find Simple Interest.\n",
    "def si():\n",
    "    p=float(input(\"enter principal:\"))\n",
    "    r=float(input(\"enter rate:\"))#yearly rate\n",
    "    t=float(input(\"enter time:\"))\n",
    "    s=p*r*t/100\n",
    "    print(\"Simple interest is:\",s)"
   ]
  },
  {
   "cell_type": "code",
   "execution_count": 11,
   "id": "714918fb-0fda-479b-89ac-e309c237b7ac",
   "metadata": {},
   "outputs": [
    {
     "name": "stdin",
     "output_type": "stream",
     "text": [
      "enter principal: 1000\n",
      "enter rate: 2\n",
      "enter time: 3\n"
     ]
    },
    {
     "name": "stdout",
     "output_type": "stream",
     "text": [
      "Simple interest is: 60.0\n"
     ]
    }
   ],
   "source": [
    "si()"
   ]
  },
  {
   "cell_type": "code",
   "execution_count": 23,
   "id": "ffcf4b2b-91f5-4881-921a-9d45ed3ab584",
   "metadata": {},
   "outputs": [],
   "source": [
    "#Write a function in python to find statistics Mean.\n",
    "def mean():\n",
    "    n=int(input(\"no of elements are:\"))\n",
    "    l=[]\n",
    "    while n:\n",
    "          l.append(int(input()))\n",
    "          n-=1\n",
    "    print(\"mean is :\",sum(l)/len(l))"
   ]
  },
  {
   "cell_type": "code",
   "execution_count": 24,
   "id": "94b60dc2-f090-434f-8ba9-52e16b02e178",
   "metadata": {},
   "outputs": [
    {
     "name": "stdin",
     "output_type": "stream",
     "text": [
      "no of elements are: 4\n",
      " 1\n",
      " 2\n",
      " 3\n",
      " 4\n"
     ]
    },
    {
     "name": "stdout",
     "output_type": "stream",
     "text": [
      "mean is : 2.5\n"
     ]
    }
   ],
   "source": [
    "mean()"
   ]
  },
  {
   "cell_type": "code",
   "execution_count": 25,
   "id": "d6fda74c-da61-4c43-8436-bf00c95c1b72",
   "metadata": {},
   "outputs": [
    {
     "name": "stdout",
     "output_type": "stream",
     "text": [
      "[{'id': 1, 'name': 'akash', 'contact': '1234123412', 'class': 'I year'}, {'id': 2, 'name': 'anil', 'contact': '3456335667', 'class': 'II year'}, {'id': 3, 'name': 'amit', 'contact': '1234127898', 'class': 'III year'}, {'id': 4, 'name': 'ankit', 'contact': '1234124565', 'class': 'IV year'}]\n"
     ]
    }
   ],
   "source": [
    "#Write a function in python to delete an employee\n",
    "li=[{\"id\":1,\"name\":\"akash\",\"contact\":\"1234123412\",\"class\":\"I year\"},\n",
    "    {\"id\":2,\"name\":\"anil\",\"contact\":\"3456335667\",\"class\":\"II year\"},\n",
    "    {\"id\":3,\"name\":\"amit\",\"contact\":\"1234127898\",\"class\":\"III year\"},\n",
    "    {\"id\":4,\"name\":\"ankit\",\"contact\":\"1234124565\",\"class\":\"IV year\"},\n",
    "   ]\n",
    "print(li)"
   ]
  },
  {
   "cell_type": "code",
   "execution_count": 28,
   "id": "f528ee74-709b-40c7-a00e-64b5f8e0910c",
   "metadata": {},
   "outputs": [],
   "source": [
    "def delEmp(li):\n",
    "    count=0\n",
    "    name=input(\"enter name of employee to delete the data\")\n",
    "    for data in li:\n",
    "        if data[\"name\"]==name:\n",
    "            count+=1\n",
    "            print(\"related data found\")\n",
    "            li.remove(data)\n",
    "            print(\"remaining database:\",li)\n",
    "    if count==0:\n",
    "        print(\"related emplyee data not found\")"
   ]
  },
  {
   "cell_type": "code",
   "execution_count": 29,
   "id": "3f917246-19db-4686-9396-39e2f3d42368",
   "metadata": {},
   "outputs": [
    {
     "name": "stdin",
     "output_type": "stream",
     "text": [
      "enter name of employee to delete the data akash\n"
     ]
    },
    {
     "name": "stdout",
     "output_type": "stream",
     "text": [
      "related data found\n",
      "remaining database: [{'id': 2, 'name': 'anil', 'contact': '3456335667', 'class': 'II year'}, {'id': 3, 'name': 'amit', 'contact': '1234127898', 'class': 'III year'}, {'id': 4, 'name': 'ankit', 'contact': '1234124565', 'class': 'IV year'}]\n"
     ]
    }
   ],
   "source": [
    "delEmp(li)"
   ]
  },
  {
   "cell_type": "code",
   "execution_count": 31,
   "id": "4433eeb6-6523-45c5-af86-537293318968",
   "metadata": {},
   "outputs": [
    {
     "name": "stdin",
     "output_type": "stream",
     "text": [
      "enter name of employee to delete the data naman\n"
     ]
    },
    {
     "name": "stdout",
     "output_type": "stream",
     "text": [
      "related emplyee data not found\n"
     ]
    }
   ],
   "source": [
    "delEmp(li)"
   ]
  },
  {
   "cell_type": "code",
   "execution_count": 32,
   "id": "b69e10ed-f756-4250-974c-290bc3aec856",
   "metadata": {},
   "outputs": [
    {
     "data": {
      "text/plain": [
       "10"
      ]
     },
     "execution_count": 32,
     "metadata": {},
     "output_type": "execute_result"
    }
   ],
   "source": [
    "#Try to create some program using lambda.\n",
    "x=lambda x:x+x\n",
    "x(5)"
   ]
  },
  {
   "cell_type": "code",
   "execution_count": 33,
   "id": "06248805-0062-4e5f-9138-1cc67609d89b",
   "metadata": {},
   "outputs": [
    {
     "name": "stdout",
     "output_type": "stream",
     "text": [
      "22\n"
     ]
    }
   ],
   "source": [
    "print(x(11))"
   ]
  },
  {
   "cell_type": "code",
   "execution_count": 34,
   "id": "0e64a0b3-41d1-4efb-b235-5cc4c31fe8f2",
   "metadata": {},
   "outputs": [
    {
     "name": "stdout",
     "output_type": "stream",
     "text": [
      "100\n"
     ]
    }
   ],
   "source": [
    "a=lambda x,y,z:x*y*z\n",
    "print(a(10,2,5))"
   ]
  },
  {
   "cell_type": "code",
   "execution_count": null,
   "id": "a9e96df4-8f5c-49f6-a2aa-a9eadcb2f6d7",
   "metadata": {},
   "outputs": [],
   "source": []
  }
 ],
 "metadata": {
  "kernelspec": {
   "display_name": "Python 3 (ipykernel)",
   "language": "python",
   "name": "python3"
  },
  "language_info": {
   "codemirror_mode": {
    "name": "ipython",
    "version": 3
   },
   "file_extension": ".py",
   "mimetype": "text/x-python",
   "name": "python",
   "nbconvert_exporter": "python",
   "pygments_lexer": "ipython3",
   "version": "3.9.7"
  }
 },
 "nbformat": 4,
 "nbformat_minor": 5
}
