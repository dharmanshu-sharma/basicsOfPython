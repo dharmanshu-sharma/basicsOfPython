{
  "nbformat": 4,
  "nbformat_minor": 0,
  "metadata": {
    "colab": {
      "name": "lab2.ipynb",
      "provenance": [],
      "collapsed_sections": [],
      "authorship_tag": "ABX9TyPWXA9/akZMU99M25+1gC1j",
      "include_colab_link": true
    },
    "kernelspec": {
      "name": "python3",
      "display_name": "Python 3"
    },
    "language_info": {
      "name": "python"
    }
  },
  "cells": [
    {
      "cell_type": "markdown",
      "metadata": {
        "id": "view-in-github",
        "colab_type": "text"
      },
      "source": [
        "<a href=\"https://colab.research.google.com/github/dharmanshu-sharma/mlTraining/blob/main/lab2.ipynb\" target=\"_parent\"><img src=\"https://colab.research.google.com/assets/colab-badge.svg\" alt=\"Open In Colab\"/></a>"
      ]
    },
    {
      "cell_type": "code",
      "execution_count": 1,
      "metadata": {
        "id": "mm-P8Tz953b9"
      },
      "outputs": [],
      "source": [
        "x=[1,2,3,4,['a','b','c'],\"red\",\"blue\"]"
      ]
    },
    {
      "cell_type": "code",
      "source": [
        "x"
      ],
      "metadata": {
        "colab": {
          "base_uri": "https://localhost:8080/"
        },
        "id": "jrXlbJKP790Y",
        "outputId": "5b456215-ce08-4882-e37e-94b92d733228"
      },
      "execution_count": 3,
      "outputs": [
        {
          "output_type": "execute_result",
          "data": {
            "text/plain": [
              "[1, 2, 3, 4, ['a', 'b', 'c'], 'red', 'blue']"
            ]
          },
          "metadata": {},
          "execution_count": 3
        }
      ]
    },
    {
      "cell_type": "code",
      "source": [
        "x.append(\"green\")\n",
        "x"
      ],
      "metadata": {
        "colab": {
          "base_uri": "https://localhost:8080/"
        },
        "id": "GsshrA4M8YWw",
        "outputId": "d80675d1-0da8-4d1f-bcda-b94b948dc54d"
      },
      "execution_count": 5,
      "outputs": [
        {
          "output_type": "execute_result",
          "data": {
            "text/plain": [
              "[1, 2, 3, 4, ['a', 'b', 'c'], 'red', 'blue', 'green', 'green']"
            ]
          },
          "metadata": {},
          "execution_count": 5
        }
      ]
    },
    {
      "cell_type": "code",
      "source": [
        "msg=\"welcome\"\n",
        "x.extend(msg)\n",
        "x"
      ],
      "metadata": {
        "colab": {
          "base_uri": "https://localhost:8080/"
        },
        "id": "Bl1ANB_x8b4C",
        "outputId": "169aafa4-d061-4f8f-9dfb-4e6e59d22ba4"
      },
      "execution_count": 6,
      "outputs": [
        {
          "output_type": "execute_result",
          "data": {
            "text/plain": [
              "[1,\n",
              " 2,\n",
              " 3,\n",
              " 4,\n",
              " ['a', 'b', 'c'],\n",
              " 'red',\n",
              " 'blue',\n",
              " 'green',\n",
              " 'green',\n",
              " 'w',\n",
              " 'e',\n",
              " 'l',\n",
              " 'c',\n",
              " 'o',\n",
              " 'm',\n",
              " 'e']"
            ]
          },
          "metadata": {},
          "execution_count": 6
        }
      ]
    },
    {
      "cell_type": "code",
      "source": [
        "x.extend([23,34])#extend adds the iterable object into list with seperate indexes;\n",
        "x"
      ],
      "metadata": {
        "colab": {
          "base_uri": "https://localhost:8080/"
        },
        "id": "WqC8q4JT8lLl",
        "outputId": "5f25d038-bd8d-4da3-b5e6-809b9045bafb"
      },
      "execution_count": 9,
      "outputs": [
        {
          "output_type": "execute_result",
          "data": {
            "text/plain": [
              "[1,\n",
              " 2,\n",
              " 3,\n",
              " 4,\n",
              " ['a', 'b', 'c'],\n",
              " 'red',\n",
              " 'blue',\n",
              " 'green',\n",
              " 'green',\n",
              " 'w',\n",
              " 'e',\n",
              " 'l',\n",
              " 'c',\n",
              " 'o',\n",
              " 'm',\n",
              " 'e',\n",
              " '2',\n",
              " '3',\n",
              " 23,\n",
              " 34]"
            ]
          },
          "metadata": {},
          "execution_count": 9
        }
      ]
    },
    {
      "cell_type": "code",
      "source": [
        "x.extend(\"2.345\")\n",
        "x"
      ],
      "metadata": {
        "colab": {
          "base_uri": "https://localhost:8080/"
        },
        "id": "nbIZ5bHy8zT7",
        "outputId": "5abf703d-00f8-495f-a26b-9df3f7366a23"
      },
      "execution_count": 12,
      "outputs": [
        {
          "output_type": "execute_result",
          "data": {
            "text/plain": [
              "[1,\n",
              " 2,\n",
              " 3,\n",
              " 4,\n",
              " ['a', 'b', 'c'],\n",
              " 'red',\n",
              " 'blue',\n",
              " 'green',\n",
              " 'green',\n",
              " 'w',\n",
              " 'e',\n",
              " 'l',\n",
              " 'c',\n",
              " 'o',\n",
              " 'm',\n",
              " 'e',\n",
              " '2',\n",
              " '3',\n",
              " 23,\n",
              " 34,\n",
              " '2',\n",
              " '.',\n",
              " '3',\n",
              " '4',\n",
              " '5',\n",
              " '2',\n",
              " '.',\n",
              " '3',\n",
              " '4',\n",
              " '5']"
            ]
          },
          "metadata": {},
          "execution_count": 12
        }
      ]
    },
    {
      "cell_type": "code",
      "source": [
        "len(x)"
      ],
      "metadata": {
        "colab": {
          "base_uri": "https://localhost:8080/"
        },
        "id": "JJ7uDroN9rkf",
        "outputId": "03d66477-d30e-4804-de8f-f66789c269c5"
      },
      "execution_count": 14,
      "outputs": [
        {
          "output_type": "execute_result",
          "data": {
            "text/plain": [
              "30"
            ]
          },
          "metadata": {},
          "execution_count": 14
        }
      ]
    },
    {
      "cell_type": "code",
      "source": [
        "x.pop(4)#delets from passed index in parameter.\n",
        "x"
      ],
      "metadata": {
        "colab": {
          "base_uri": "https://localhost:8080/"
        },
        "id": "Eo3u6nzS-Pl9",
        "outputId": "649a36c6-fcf1-417e-a4eb-c8caf13e0791"
      },
      "execution_count": 15,
      "outputs": [
        {
          "output_type": "execute_result",
          "data": {
            "text/plain": [
              "[1,\n",
              " 2,\n",
              " 3,\n",
              " 4,\n",
              " 'red',\n",
              " 'blue',\n",
              " 'green',\n",
              " 'green',\n",
              " 'w',\n",
              " 'e',\n",
              " 'l',\n",
              " 'c',\n",
              " 'o',\n",
              " 'm',\n",
              " 'e',\n",
              " '2',\n",
              " '3',\n",
              " 23,\n",
              " 34,\n",
              " '2',\n",
              " '.',\n",
              " '3',\n",
              " '4',\n",
              " '5',\n",
              " '2',\n",
              " '.',\n",
              " '3',\n",
              " '4',\n",
              " '5']"
            ]
          },
          "metadata": {},
          "execution_count": 15
        }
      ]
    },
    {
      "cell_type": "code",
      "source": [
        "x.pop()#delets from last\n",
        "x"
      ],
      "metadata": {
        "colab": {
          "base_uri": "https://localhost:8080/"
        },
        "id": "UbAsXEgf-YJ-",
        "outputId": "e2016add-52fe-4431-b030-f8eb4bc56fa2"
      },
      "execution_count": 16,
      "outputs": [
        {
          "output_type": "execute_result",
          "data": {
            "text/plain": [
              "[1,\n",
              " 2,\n",
              " 3,\n",
              " 4,\n",
              " 'red',\n",
              " 'blue',\n",
              " 'green',\n",
              " 'green',\n",
              " 'w',\n",
              " 'e',\n",
              " 'l',\n",
              " 'c',\n",
              " 'o',\n",
              " 'm',\n",
              " 'e',\n",
              " '2',\n",
              " '3',\n",
              " 23,\n",
              " 34,\n",
              " '2',\n",
              " '.',\n",
              " '3',\n",
              " '4',\n",
              " '5',\n",
              " '2',\n",
              " '.',\n",
              " '3',\n",
              " '4']"
            ]
          },
          "metadata": {},
          "execution_count": 16
        }
      ]
    },
    {
      "cell_type": "code",
      "source": [
        "x.remove(\"w\")#deletes based on passed values\n",
        "x"
      ],
      "metadata": {
        "colab": {
          "base_uri": "https://localhost:8080/"
        },
        "id": "YfuU7QkD-b4Y",
        "outputId": "f9496384-2c83-434d-e4ee-dffc57e90c42"
      },
      "execution_count": 19,
      "outputs": [
        {
          "output_type": "execute_result",
          "data": {
            "text/plain": [
              "[1,\n",
              " 2,\n",
              " 3,\n",
              " 4,\n",
              " 'red',\n",
              " 'blue',\n",
              " 'green',\n",
              " 'green',\n",
              " 'e',\n",
              " 'l',\n",
              " 'c',\n",
              " 'o',\n",
              " 'm',\n",
              " 'e',\n",
              " '2',\n",
              " '3',\n",
              " 23,\n",
              " 34,\n",
              " '2',\n",
              " '3',\n",
              " '4',\n",
              " '5',\n",
              " '2',\n",
              " '.',\n",
              " '3',\n",
              " '4']"
            ]
          },
          "metadata": {},
          "execution_count": 19
        }
      ]
    },
    {
      "cell_type": "code",
      "source": [
        "x.insert(0,\"black\")# i have run this statment so balck is added two times.\n",
        "#passed parameters are index and value;\n",
        "x"
      ],
      "metadata": {
        "colab": {
          "base_uri": "https://localhost:8080/"
        },
        "id": "Lo5BEbzz_kPr",
        "outputId": "aeb12e27-5c89-4827-d604-c8666365ec31"
      },
      "execution_count": 21,
      "outputs": [
        {
          "output_type": "execute_result",
          "data": {
            "text/plain": [
              "['black',\n",
              " 'black',\n",
              " 1,\n",
              " 2,\n",
              " 3,\n",
              " 4,\n",
              " 'red',\n",
              " 'blue',\n",
              " 'green',\n",
              " 'green',\n",
              " 'e',\n",
              " 'l',\n",
              " 'c',\n",
              " 'o',\n",
              " 'm',\n",
              " 'e',\n",
              " '2',\n",
              " '3',\n",
              " 23,\n",
              " 34,\n",
              " '2',\n",
              " '3',\n",
              " '4',\n",
              " '5',\n",
              " '2',\n",
              " '.',\n",
              " '3',\n",
              " '4']"
            ]
          },
          "metadata": {},
          "execution_count": 21
        }
      ]
    },
    {
      "cell_type": "code",
      "source": [
        "x.remove('black')\n",
        "x"
      ],
      "metadata": {
        "colab": {
          "base_uri": "https://localhost:8080/"
        },
        "id": "0g3cSO-GASam",
        "outputId": "0795b3b3-0fb1-4f0e-d7f8-e876f3ea70e8"
      },
      "execution_count": 23,
      "outputs": [
        {
          "output_type": "execute_result",
          "data": {
            "text/plain": [
              "['black',\n",
              " 1,\n",
              " 2,\n",
              " 3,\n",
              " 4,\n",
              " 'red',\n",
              " 'blue',\n",
              " 'green',\n",
              " 'green',\n",
              " 'e',\n",
              " 'l',\n",
              " 'c',\n",
              " 'o',\n",
              " 'm',\n",
              " 'e',\n",
              " '2',\n",
              " '3',\n",
              " 23,\n",
              " 34,\n",
              " '2',\n",
              " '3',\n",
              " '4',\n",
              " '5',\n",
              " '2',\n",
              " '.',\n",
              " '3',\n",
              " '4']"
            ]
          },
          "metadata": {},
          "execution_count": 23
        }
      ]
    },
    {
      "cell_type": "code",
      "source": [
        "bs=int(input(\"enter basic salary:\"))\n",
        "ta=int(input(\"enter travel allowance:\"))\n",
        "hra=int(input(\"enter house rent allowence:\"))\n",
        "da=0#da is dearness allowence\n",
        "gs=0\n",
        "if bs>25000:\n",
        "  da=.1*bs\n",
        "else :\n",
        "  da=.05*bs\n",
        "gs=bs+ta+hra+da\n",
        "print(\"gross salary is:\",gs)"
      ],
      "metadata": {
        "colab": {
          "base_uri": "https://localhost:8080/"
        },
        "id": "eYuZijpnAeVB",
        "outputId": "234cb36e-0bcd-4ad4-9c18-fda69f6d6d90"
      },
      "execution_count": 26,
      "outputs": [
        {
          "output_type": "stream",
          "name": "stdout",
          "text": [
            "enter basic salary:30000\n",
            "enter travel allowance:5000\n",
            "enter house rent allowence:5000\n",
            "gross salary is: 43000.0\n"
          ]
        }
      ]
    },
    {
      "cell_type": "code",
      "source": [
        "n=int(input(\"enter a number:\"))\n",
        "if n%2==1:\n",
        "  print(\"entered number is odd number\")\n",
        "else:\n",
        "  print(\"entered number is even number\")\n"
      ],
      "metadata": {
        "colab": {
          "base_uri": "https://localhost:8080/"
        },
        "id": "Al6HvPwnCtQJ",
        "outputId": "4a50c25c-65b1-449d-af0c-736b377109ec"
      },
      "execution_count": 27,
      "outputs": [
        {
          "output_type": "stream",
          "name": "stdout",
          "text": [
            "enter a number:3\n",
            "entered number is odd number\n"
          ]
        }
      ]
    },
    {
      "cell_type": "code",
      "source": [
        "#two list of odd and even number from a large list\n",
        "l=[1,2,3,4,5,6,7,8,9,10]\n",
        "l1=[]\n",
        "l2=[]\n",
        "for i in l:\n",
        "  if i%2==0:\n",
        "    l1.append(i)\n",
        "  else:\n",
        "    l2.append(i)\n",
        "print(l1)\n",
        "print(l2)"
      ],
      "metadata": {
        "colab": {
          "base_uri": "https://localhost:8080/"
        },
        "id": "35VosZSZD99M",
        "outputId": "0a47059f-e90e-4733-876d-ec852f3453fe"
      },
      "execution_count": 29,
      "outputs": [
        {
          "output_type": "stream",
          "name": "stdout",
          "text": [
            "[2, 4, 6, 8, 10]\n",
            "[1, 3, 5, 7, 9]\n"
          ]
        }
      ]
    },
    {
      "cell_type": "code",
      "source": [
        "age=int(input(\"enter age of student:\"))\n",
        "if age>=18 and age<=25:\n",
        "  print(\"eligible for grade 1 SBI exam\")\n",
        "elif age>25 and age<=30:\n",
        "  print(\"eligible for grade 2 SBI exam\")\n",
        "else:\n",
        "  print(\"Sorry, not eligible for any SBI exam\")"
      ],
      "metadata": {
        "colab": {
          "base_uri": "https://localhost:8080/"
        },
        "id": "NSCvIfqpE5Xs",
        "outputId": "4f8ec449-013f-400a-e08e-778bd16e60e3"
      },
      "execution_count": 31,
      "outputs": [
        {
          "output_type": "stream",
          "name": "stdout",
          "text": [
            "enter age of student:34\n",
            "Sorry, not eligible for any SBI exam\n"
          ]
        }
      ]
    },
    {
      "cell_type": "code",
      "source": [
        "age1=int(input(\"age of first brother:\"))\n",
        "age2=int(input(\"age of second brother:\"))\n",
        "age3=int(input(\"age of third brother:\"))\n",
        "elder_brother=age1 if age1>age2 and age1>age3 else age2 if age2>age3 else age3\n",
        "print(\"age of elder brother is:\",elder_brother)"
      ],
      "metadata": {
        "colab": {
          "base_uri": "https://localhost:8080/"
        },
        "id": "8aQaHLqrGKEz",
        "outputId": "cf717284-1046-4bba-dbba-dbf0e4327d3f"
      },
      "execution_count": 32,
      "outputs": [
        {
          "output_type": "stream",
          "name": "stdout",
          "text": [
            "age of first brother:23\n",
            "age of second brother:34\n",
            "age of third brother:20\n",
            "age of elder brother is: 34\n"
          ]
        }
      ]
    },
    {
      "cell_type": "code",
      "source": [
        "for i in range(0,10,2):\n",
        "  print(i,end=' ')\n"
      ],
      "metadata": {
        "colab": {
          "base_uri": "https://localhost:8080/"
        },
        "id": "uxX7nqBHHNUQ",
        "outputId": "367833f7-abf4-45fd-c587-6951c19c048a"
      },
      "execution_count": 34,
      "outputs": [
        {
          "output_type": "stream",
          "name": "stdout",
          "text": [
            "0 2 4 6 8 "
          ]
        }
      ]
    },
    {
      "cell_type": "code",
      "source": [
        "l1=[]\n",
        "for i in range(1,11):\n",
        "  print(\"19*%d=%d\"%(i,i*19),end=\"\\n\")\n",
        "  l1.append(i*19)"
      ],
      "metadata": {
        "colab": {
          "base_uri": "https://localhost:8080/"
        },
        "id": "9Qinf6xhIzIg",
        "outputId": "ff444b85-ca1b-4360-fa13-406a7e027d0d"
      },
      "execution_count": 37,
      "outputs": [
        {
          "output_type": "stream",
          "name": "stdout",
          "text": [
            "19*1=19\n",
            "19*2=38\n",
            "19*3=57\n",
            "19*4=76\n",
            "19*5=95\n",
            "19*6=114\n",
            "19*7=133\n",
            "19*8=152\n",
            "19*9=171\n",
            "19*10=190\n"
          ]
        }
      ]
    },
    {
      "cell_type": "code",
      "source": [
        "l1\n"
      ],
      "metadata": {
        "colab": {
          "base_uri": "https://localhost:8080/"
        },
        "id": "wuPnW5ioJKsY",
        "outputId": "72a276c7-045b-445a-f7c4-297dd28ca9b2"
      },
      "execution_count": 39,
      "outputs": [
        {
          "output_type": "execute_result",
          "data": {
            "text/plain": [
              "[19, 38, 57, 76, 95, 114, 133, 152, 171, 190]"
            ]
          },
          "metadata": {},
          "execution_count": 39
        }
      ]
    },
    {
      "cell_type": "code",
      "source": [
        "for i in l1:\n",
        "  print(i,end=\" \")"
      ],
      "metadata": {
        "colab": {
          "base_uri": "https://localhost:8080/"
        },
        "id": "KO6rD7kUJn3k",
        "outputId": "d208139d-4782-4193-a6b1-7ee10be0d170"
      },
      "execution_count": 41,
      "outputs": [
        {
          "output_type": "stream",
          "name": "stdout",
          "text": [
            "19 38 57 76 95 114 133 152 171 190 "
          ]
        }
      ]
    },
    {
      "cell_type": "code",
      "source": [
        "i=0\n",
        "while i<11:\n",
        "  print(i,end=' ')\n",
        "  i+=1"
      ],
      "metadata": {
        "colab": {
          "base_uri": "https://localhost:8080/"
        },
        "id": "1j-oMFZAKC9j",
        "outputId": "d3ca8731-a70d-4e05-81c4-77dce5b0ded9"
      },
      "execution_count": 42,
      "outputs": [
        {
          "output_type": "stream",
          "name": "stdout",
          "text": [
            "0 1 2 3 4 5 6 7 8 9 10 "
          ]
        }
      ]
    },
    {
      "cell_type": "code",
      "source": [
        "l1"
      ],
      "metadata": {
        "colab": {
          "base_uri": "https://localhost:8080/"
        },
        "id": "eNgruzSIKYvX",
        "outputId": "ff103b21-14a6-4a57-9efe-f970f5bbd772"
      },
      "execution_count": 43,
      "outputs": [
        {
          "output_type": "execute_result",
          "data": {
            "text/plain": [
              "[19, 38, 57, 76, 95, 114, 133, 152, 171, 190]"
            ]
          },
          "metadata": {},
          "execution_count": 43
        }
      ]
    },
    {
      "cell_type": "code",
      "source": [
        "length=len(l1)\n",
        "count=0\n",
        "while count<length:\n",
        "  print(l1[count])\n",
        "  count+=1\n",
        "  "
      ],
      "metadata": {
        "colab": {
          "base_uri": "https://localhost:8080/"
        },
        "id": "J6l3lHUJK1mQ",
        "outputId": "62a9eb6b-244c-43c5-a499-2ddb3f471362"
      },
      "execution_count": 49,
      "outputs": [
        {
          "output_type": "stream",
          "name": "stdout",
          "text": [
            "19\n",
            "38\n",
            "57\n",
            "76\n",
            "95\n",
            "114\n",
            "133\n",
            "152\n",
            "171\n",
            "190\n"
          ]
        }
      ]
    },
    {
      "cell_type": "code",
      "source": [
        "for i in range(2,7):\n",
        "  for j in range(1,i):\n",
        "    print(j,end=\" \")\n",
        "  print()"
      ],
      "metadata": {
        "colab": {
          "base_uri": "https://localhost:8080/"
        },
        "id": "ePYw6ShILBYE",
        "outputId": "20026855-ee84-41bc-e2e7-819022e6b07d"
      },
      "execution_count": 50,
      "outputs": [
        {
          "output_type": "stream",
          "name": "stdout",
          "text": [
            "1 \n",
            "1 2 \n",
            "1 2 3 \n",
            "1 2 3 4 \n",
            "1 2 3 4 5 \n"
          ]
        }
      ]
    },
    {
      "cell_type": "code",
      "source": [
        "for i in range(1,6):\n",
        "  for j in range(6,i,-1):\n",
        "    print(j-1,end=' ')\n",
        "  print()"
      ],
      "metadata": {
        "colab": {
          "base_uri": "https://localhost:8080/"
        },
        "id": "poMOaS3KR4us",
        "outputId": "d075a046-ab5e-4be4-819a-8f25bf54e12d"
      },
      "execution_count": 54,
      "outputs": [
        {
          "output_type": "stream",
          "name": "stdout",
          "text": [
            "5 4 3 2 1 \n",
            "5 4 3 2 \n",
            "5 4 3 \n",
            "5 4 \n",
            "5 \n"
          ]
        }
      ]
    },
    {
      "cell_type": "code",
      "source": [
        "for i in range(1,6):\n",
        "  for j in range(6,i,-1):\n",
        "    print('*',end=' ')\n",
        "  print()\n"
      ],
      "metadata": {
        "colab": {
          "base_uri": "https://localhost:8080/"
        },
        "id": "jQD_splgSISB",
        "outputId": "334f2600-dc52-4123-e0df-4497fc24985b"
      },
      "execution_count": 53,
      "outputs": [
        {
          "output_type": "stream",
          "name": "stdout",
          "text": [
            "* * * * * \n",
            "* * * * \n",
            "* * * \n",
            "* * \n",
            "* \n"
          ]
        }
      ]
    },
    {
      "cell_type": "code",
      "source": [
        "import time\n",
        "for i in range(1,6):\n",
        "  for s in range(1,i):\n",
        "    print(\" \",end=\" \")\n",
        "    time.sleep(1)\n",
        "  for j in range(6,i,-1):\n",
        "    print(\"*\",end=' ')\n",
        "    time.sleep(1)\n",
        "  print()\n",
        "\n"
      ],
      "metadata": {
        "colab": {
          "base_uri": "https://localhost:8080/"
        },
        "id": "aYNfoSlNSeNV",
        "outputId": "cf29ef25-821a-4a9c-9c3f-33acb383b80b"
      },
      "execution_count": 58,
      "outputs": [
        {
          "output_type": "stream",
          "name": "stdout",
          "text": [
            "* * * * * \n",
            "  * * * * \n",
            "    * * * \n",
            "      * * \n",
            "        * \n"
          ]
        }
      ]
    },
    {
      "cell_type": "code",
      "source": [
        "for i in range(1,7):\n",
        "  for s in range(1,i):\n",
        "    print(\" \",end=\" \")\n",
        "  for j in range(7,i,-1):\n",
        "    print(\"*\",end=' ')\n",
        "  for k in range(6,i,-1):\n",
        "    print(\"*\",end=' ') \n",
        "  print()\n",
        "\n"
      ],
      "metadata": {
        "colab": {
          "base_uri": "https://localhost:8080/"
        },
        "id": "3YpJHk8WVJO5",
        "outputId": "de2540ad-e3a8-4b6f-9b62-aa5744c4401e"
      },
      "execution_count": 61,
      "outputs": [
        {
          "output_type": "stream",
          "name": "stdout",
          "text": [
            "* * * * * * * * * * * \n",
            "  * * * * * * * * * \n",
            "    * * * * * * * \n",
            "      * * * * * \n",
            "        * * * \n",
            "          * \n"
          ]
        }
      ]
    },
    {
      "cell_type": "code",
      "source": [
        "for i in range(1,7):\n",
        "  for s in range(9,i,-1):\n",
        "    print(\" \",end=\" \")\n",
        "  for j in range(0,i):\n",
        "    print(\"*\",end=' ')\n",
        "  for k in range(1,i):\n",
        "    print(\"*\",end=' ') \n",
        "  print()\n",
        "\n",
        "for i in range(0,7):\n",
        "  for j in range(0,5):\n",
        "    print(\" \",end=\" \")\n",
        "  for j in range(0,7):\n",
        "    if i>2 and j>1 and j<5 :\n",
        "      print(\" \",end=\" \")\n",
        "    else:\n",
        "      print(\"*\",end=\" \")\n",
        "  print()\n"
      ],
      "metadata": {
        "colab": {
          "base_uri": "https://localhost:8080/"
        },
        "id": "JKC0nbkRW3hA",
        "outputId": "de5f2902-6022-4fd7-d35f-9ab073e30e02"
      },
      "execution_count": 77,
      "outputs": [
        {
          "output_type": "stream",
          "name": "stdout",
          "text": [
            "                * \n",
            "              * * * \n",
            "            * * * * * \n",
            "          * * * * * * * \n",
            "        * * * * * * * * * \n",
            "      * * * * * * * * * * * \n",
            "          * * * * * * * \n",
            "          * * * * * * * \n",
            "          * * * * * * * \n",
            "          * *       * * \n",
            "          * *       * * \n",
            "          * *       * * \n",
            "          * *       * * \n"
          ]
        }
      ]
    },
    {
      "cell_type": "code",
      "source": [
        "|"
      ],
      "metadata": {
        "id": "Soegs-4laqFO"
      },
      "execution_count": null,
      "outputs": []
    }
  ]
}
