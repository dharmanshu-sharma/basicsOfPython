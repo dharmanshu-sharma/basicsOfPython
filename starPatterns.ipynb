{
 "cells": [
  {
   "cell_type": "code",
   "execution_count": 2,
   "id": "98b16435-6038-4b30-b91a-555ee7f8cde5",
   "metadata": {},
   "outputs": [
    {
     "name": "stdout",
     "output_type": "stream",
     "text": [
      "* \n",
      "* * \n",
      "* * * \n",
      "* * * * \n",
      "* * * * * \n"
     ]
    }
   ],
   "source": [
    "for i in range (1,6):\n",
    "    for j in range(0,i):\n",
    "        print(\"*\",end=\" \")\n",
    "    print()"
   ]
  },
  {
   "cell_type": "code",
   "execution_count": 3,
   "id": "08a5cb66-e19e-4b13-b4e4-47984a857975",
   "metadata": {},
   "outputs": [
    {
     "name": "stdout",
     "output_type": "stream",
     "text": [
      "* * * * * \n",
      "* * * * \n",
      "* * * \n",
      "* * \n",
      "* \n"
     ]
    }
   ],
   "source": [
    "for i in range (1,6):\n",
    "    for j in range(i,6):\n",
    "        print(\"*\",end=\" \")\n",
    "    print()"
   ]
  },
  {
   "cell_type": "code",
   "execution_count": 5,
   "id": "efe3b19e-318f-4e13-8a14-a4e7cdab7960",
   "metadata": {},
   "outputs": [
    {
     "name": "stdout",
     "output_type": "stream",
     "text": [
      "* * * * * \n",
      "  * * * * \n",
      "    * * * \n",
      "      * * \n",
      "        * \n"
     ]
    }
   ],
   "source": [
    "for i in range(1,6):\n",
    "    for j in range(1,i):\n",
    "        print(\" \",end=\" \")\n",
    "    for j in range(i,6):\n",
    "        print(\"*\",end=\" \")\n",
    "    print()"
   ]
  },
  {
   "cell_type": "code",
   "execution_count": 7,
   "id": "5f65f9ae-5fcb-4ac8-b9ed-93ad14dafbdc",
   "metadata": {},
   "outputs": [
    {
     "name": "stdout",
     "output_type": "stream",
     "text": [
      "        * \n",
      "      * * \n",
      "    * * * \n",
      "  * * * * \n",
      "* * * * * \n"
     ]
    }
   ],
   "source": [
    "for i in range (1,6):\n",
    "    for j in range(i,5):\n",
    "        print(\" \",end=\" \")\n",
    "    for j in range(0,i):\n",
    "        print(\"*\",end=\" \")\n",
    "    print()"
   ]
  },
  {
   "cell_type": "code",
   "execution_count": 9,
   "id": "a7831601-439b-468c-8408-05e14334afb3",
   "metadata": {},
   "outputs": [
    {
     "name": "stdout",
     "output_type": "stream",
     "text": [
      "* * * * * \n",
      "* * * * * \n",
      "* * * * * \n",
      "* * * * * \n",
      "* * * * * \n"
     ]
    }
   ],
   "source": [
    "for i in range(1,6):\n",
    "    for i in range(1,6):\n",
    "        print(\"*\",end=\" \")\n",
    "    print()"
   ]
  },
  {
   "cell_type": "code",
   "execution_count": 11,
   "id": "10a8a4fa-6c79-4e09-9aa6-d2e7d80a7431",
   "metadata": {},
   "outputs": [
    {
     "name": "stdout",
     "output_type": "stream",
     "text": [
      "        * \n",
      "      * * * \n",
      "    * * * * * \n",
      "  * * * * * * * \n",
      "* * * * * * * * * \n"
     ]
    }
   ],
   "source": [
    "for i in range (1,6):\n",
    "    for j in range(i,5):\n",
    "        print(\" \",end=\" \")\n",
    "    for j in range(0,i):\n",
    "        print(\"*\",end=\" \")\n",
    "    for j in range(1,i):\n",
    "        print(\"*\",end=\" \")\n",
    "    print()"
   ]
  },
  {
   "cell_type": "code",
   "execution_count": 13,
   "id": "242fa19d-4491-4b18-8ec3-4352903181a9",
   "metadata": {},
   "outputs": [
    {
     "name": "stdout",
     "output_type": "stream",
     "text": [
      "* * * * * * * * * \n",
      "  * * * * * * * \n",
      "    * * * * * \n",
      "      * * * \n",
      "        * \n"
     ]
    }
   ],
   "source": [
    "for i in range(1,6):\n",
    "    for j in range(1,i):\n",
    "        print(\" \",end=\" \")\n",
    "    for j in range(i,6):\n",
    "        print(\"*\",end=\" \")\n",
    "    for j in range(i,5):\n",
    "        print(\"*\",end=\" \")\n",
    "    print()"
   ]
  },
  {
   "cell_type": "code",
   "execution_count": 16,
   "id": "07112ffe-5e19-465f-97d0-71e907f3b276",
   "metadata": {},
   "outputs": [
    {
     "name": "stdout",
     "output_type": "stream",
     "text": [
      "        * \n",
      "      * * * \n",
      "    * * * * * \n",
      "  * * * * * * * \n",
      "* * * * * * * * * \n",
      "  * * * * * * * \n",
      "    * * * * * \n",
      "      * * * \n",
      "        * \n"
     ]
    }
   ],
   "source": [
    "for i in range (1,6):\n",
    "    for j in range(i,5):\n",
    "        print(\" \",end=\" \")\n",
    "    for j in range(0,i):\n",
    "        print(\"*\",end=\" \")\n",
    "    for j in range(1,i):\n",
    "        print(\"*\",end=\" \") \n",
    "    print()\n",
    "for i in range(1,5):\n",
    "    for j in range(0,i):\n",
    "        print(\" \",end=\" \")\n",
    "    for j in range(i,5):\n",
    "        print(\"*\",end=\" \")\n",
    "    for j in range(i,4):\n",
    "        print(\"*\",end=\" \")\n",
    "    print()"
   ]
  },
  {
   "cell_type": "code",
   "execution_count": 35,
   "id": "e457fed8-843a-45b9-95d7-790b378fc827",
   "metadata": {},
   "outputs": [
    {
     "name": "stdout",
     "output_type": "stream",
     "text": [
      "*               * \n",
      "* *           * * \n",
      "* * *       * * * \n",
      "* * * *   * * * * \n",
      "* * * * * * * * * "
     ]
    }
   ],
   "source": [
    "for i in range (1,5):\n",
    "    for j in range(0,i):\n",
    "        print(\"*\",end=\" \")\n",
    "    for j in range(i,5):\n",
    "        print(\" \",end=\" \")\n",
    "    for j in range(i,4):\n",
    "        print(\" \",end=\" \")\n",
    "    for j in range(0,i):\n",
    "        print(\"*\",end=\" \")\n",
    "    print()\n",
    "for i in range(1,10):\n",
    "    print(\"*\",end=\" \")"
   ]
  },
  {
   "cell_type": "code",
   "execution_count": 43,
   "id": "88ea5867-93b8-4ef2-8cc5-f8a9a93b37cf",
   "metadata": {},
   "outputs": [
    {
     "name": "stdout",
     "output_type": "stream",
     "text": [
      "* * * * * * * * * * \n",
      "* * * *     * * * * \n",
      "* * *         * * * \n",
      "* *             * * \n",
      "*                 * \n"
     ]
    }
   ],
   "source": [
    "for i in range(1,6):\n",
    "    for j in range(i,6):\n",
    "        print(\"*\",end=\" \")\n",
    "    for j in range(1,i):\n",
    "        print(\" \",end=\" \")\n",
    "    for j in range(1,i):\n",
    "        print(\" \",end=\" \")\n",
    "    for j in range(i,6):\n",
    "        print(\"*\",end=\" \")\n",
    "    print()  "
   ]
  },
  {
   "cell_type": "code",
   "execution_count": 45,
   "id": "79f99776-6d9e-4b5a-b8ab-8031ae5fb0a5",
   "metadata": {},
   "outputs": [
    {
     "name": "stdout",
     "output_type": "stream",
     "text": [
      "*                 * \n",
      "* *             * * \n",
      "* * *         * * * \n",
      "* * * *     * * * * \n",
      "* * * * * * * * * * \n"
     ]
    }
   ],
   "source": [
    "for i in range (1,6):\n",
    "    for j in range(0,i):\n",
    "        print(\"*\",end=\" \")\n",
    "    for j in range(i,5):\n",
    "        print(\" \",end=\" \")\n",
    "    for j in range(i,5):\n",
    "        print(\" \",end=\" \")\n",
    "    for j in range(0,i):\n",
    "        print(\"*\",end=\" \")\n",
    "    print()"
   ]
  },
  {
   "cell_type": "code",
   "execution_count": 49,
   "id": "f309e09c-00d0-47e9-8774-17c1c1e5f503",
   "metadata": {},
   "outputs": [
    {
     "name": "stdout",
     "output_type": "stream",
     "text": [
      "* * * * * * * * * * \n",
      "* * * *     * * * * \n",
      "* * *         * * * \n",
      "* *             * * \n",
      "*                 * \n",
      "*                 * \n",
      "* *             * * \n",
      "* * *         * * * \n",
      "* * * *     * * * * \n",
      "* * * * * * * * * * \n"
     ]
    }
   ],
   "source": [
    "for i in range(1,6):\n",
    "    for j in range(i,6):\n",
    "        print(\"*\",end=\" \")\n",
    "    for j in range(1,i):\n",
    "        print(\" \",end=\" \")\n",
    "    for j in range(1,i):\n",
    "        print(\" \",end=\" \")\n",
    "    for j in range(i,6):\n",
    "        print(\"*\",end=\" \")\n",
    "    print()  \n",
    "for i in range(1,6):  \n",
    "    for j in range(0,i):\n",
    "        print(\"*\",end=\" \")\n",
    "    for j in range(i,5):\n",
    "        print(\" \",end=\" \")\n",
    "    for j in range(i,5):\n",
    "        print(\" \",end=\" \")\n",
    "    for j in range(0,i):\n",
    "        print(\"*\",end=\" \")\n",
    "    print()\n",
    "    "
   ]
  },
  {
   "cell_type": "code",
   "execution_count": 56,
   "id": "0ec1fca2-6f3b-4918-aef8-208ac3804981",
   "metadata": {},
   "outputs": [
    {
     "name": "stdout",
     "output_type": "stream",
     "text": [
      "                * \n",
      "              * * * \n",
      "            * * * * * \n",
      "          * * * * * * * \n",
      "        * * * * * * * * * \n",
      "      * * * * * * * * * * * \n",
      "    * * * * * * * * * * * * * \n",
      "  * * * * * * * * * * * * * * * \n",
      "* * * * * * * * * * * * * * * * * \n",
      "        * * * * * * * * * \n",
      "        * * * * * * * * * \n",
      "        * * * * * * * * * \n",
      "        * * * * * * * * * \n",
      "        * * * * * * * * * \n",
      "        * *           * * \n",
      "        * *           * * \n",
      "        * *           * * \n",
      "        * * * * * * * * * \n"
     ]
    }
   ],
   "source": [
    "for i in range (1,10):\n",
    "    for j in range(i,9):\n",
    "        print(\" \",end=\" \")\n",
    "    for j in range(0,i):\n",
    "        print(\"*\",end=\" \")\n",
    "    for j in range(1,i):\n",
    "        print(\"*\",end=\" \")\n",
    "    print()\n",
    "for i in range (9):\n",
    "    for j in range(4):\n",
    "        print(\" \",end=\" \")\n",
    "    for j in range(9):\n",
    "        if(i>4 and j>1 and j<7 and i<8):\n",
    "            print(\" \",end=\" \")\n",
    "        else:\n",
    "            print(\"*\",end=\" \")\n",
    "    print()"
   ]
  },
  {
   "cell_type": "code",
   "execution_count": null,
   "id": "6c900986-25d3-4bcd-b560-94cb4608b4b6",
   "metadata": {},
   "outputs": [],
   "source": []
  }
 ],
 "metadata": {
  "kernelspec": {
   "display_name": "Python 3 (ipykernel)",
   "language": "python",
   "name": "python3"
  },
  "language_info": {
   "codemirror_mode": {
    "name": "ipython",
    "version": 3
   },
   "file_extension": ".py",
   "mimetype": "text/x-python",
   "name": "python",
   "nbconvert_exporter": "python",
   "pygments_lexer": "ipython3",
   "version": "3.9.7"
  }
 },
 "nbformat": 4,
 "nbformat_minor": 5
}
