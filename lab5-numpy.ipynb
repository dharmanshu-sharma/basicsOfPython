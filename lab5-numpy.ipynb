{
 "cells": [
  {
   "cell_type": "code",
   "execution_count": 1,
   "id": "f78cdc41-6cbc-499c-8842-e5c394c2b07c",
   "metadata": {},
   "outputs": [
    {
     "data": {
      "text/plain": [
       "array([2, 3, 4, 5, 6])"
      ]
     },
     "execution_count": 1,
     "metadata": {},
     "output_type": "execute_result"
    }
   ],
   "source": [
    "import numpy as np\n",
    "x=np.array([2,3,4,5,6])\n",
    "x"
   ]
  },
  {
   "cell_type": "code",
   "execution_count": 2,
   "id": "2cbaba11-0b9d-4aec-a2ed-d5fb89d81445",
   "metadata": {},
   "outputs": [
    {
     "data": {
      "text/plain": [
       "6"
      ]
     },
     "execution_count": 2,
     "metadata": {},
     "output_type": "execute_result"
    }
   ],
   "source": [
    "np.max(x)"
   ]
  },
  {
   "cell_type": "code",
   "execution_count": 11,
   "id": "6de9d6c2-8ce0-4b8e-ad07-ea951360aa8e",
   "metadata": {},
   "outputs": [
    {
     "data": {
      "text/plain": [
       "array([  2,   4,   6,   8,  10,  12,  14,  16,  18,  20,  22,  24,  26,\n",
       "        28,  30,  32,  34,  36,  38,  40,  42,  44,  46,  48,  50,  52,\n",
       "        54,  56,  58,  60,  62,  64,  66,  68,  70,  72,  74,  76,  78,\n",
       "        80,  82,  84,  86,  88,  90,  92,  94,  96,  98, 100, 102, 104,\n",
       "       106, 108, 110, 112, 114, 116, 118, 120, 122, 124, 126, 128, 130,\n",
       "       132, 134, 136, 138, 140, 142, 144, 146, 148, 150, 152, 154, 156,\n",
       "       158, 160, 162, 164, 166, 168, 170, 172, 174, 176, 178, 180, 182,\n",
       "       184, 186, 188, 190, 192, 194, 196, 198])"
      ]
     },
     "execution_count": 11,
     "metadata": {},
     "output_type": "execute_result"
    }
   ],
   "source": [
    "x=np.arange(2,200,2)#(starting,ending,size of steps)\n",
    "x"
   ]
  },
  {
   "cell_type": "code",
   "execution_count": 12,
   "id": "d1525753-8396-48d6-8640-449fa70d9f53",
   "metadata": {},
   "outputs": [
    {
     "data": {
      "text/plain": [
       "array([ 1.,  2.,  3.,  4.,  5.,  6.,  7.,  8.,  9., 10., 11., 12., 13.,\n",
       "       14., 15., 16., 17., 18., 19., 20., 21., 22., 23., 24., 25., 26.,\n",
       "       27., 28., 29., 30., 31., 32., 33., 34., 35., 36., 37., 38., 39.,\n",
       "       40., 41., 42., 43., 44., 45., 46., 47., 48., 49., 50., 51., 52.,\n",
       "       53., 54., 55., 56., 57., 58., 59., 60., 61., 62., 63., 64., 65.,\n",
       "       66., 67., 68., 69., 70., 71., 72., 73., 74., 75., 76., 77., 78.,\n",
       "       79., 80., 81., 82., 83., 84., 85., 86., 87., 88., 89., 90., 91.,\n",
       "       92., 93., 94., 95., 96., 97., 98., 99.])"
      ]
     },
     "execution_count": 12,
     "metadata": {},
     "output_type": "execute_result"
    }
   ],
   "source": [
    "x/2"
   ]
  },
  {
   "cell_type": "code",
   "execution_count": 13,
   "id": "4bbb2ec7-e714-4177-b097-4db985b1c12f",
   "metadata": {},
   "outputs": [
    {
     "data": {
      "text/plain": [
       "array([  5,   7,   9,  11,  13,  15,  17,  19,  21,  23,  25,  27,  29,\n",
       "        31,  33,  35,  37,  39,  41,  43,  45,  47,  49,  51,  53,  55,\n",
       "        57,  59,  61,  63,  65,  67,  69,  71,  73,  75,  77,  79,  81,\n",
       "        83,  85,  87,  89,  91,  93,  95,  97,  99, 101, 103, 105, 107,\n",
       "       109, 111, 113, 115, 117, 119, 121, 123, 125, 127, 129, 131, 133,\n",
       "       135, 137, 139, 141, 143, 145, 147, 149, 151, 153, 155, 157, 159,\n",
       "       161, 163, 165, 167, 169, 171, 173, 175, 177, 179, 181, 183, 185,\n",
       "       187, 189, 191, 193, 195, 197, 199, 201])"
      ]
     },
     "execution_count": 13,
     "metadata": {},
     "output_type": "execute_result"
    }
   ],
   "source": [
    "x+3"
   ]
  },
  {
   "cell_type": "code",
   "execution_count": 14,
   "id": "573a46c2-af48-418e-9bfe-838167ff556f",
   "metadata": {},
   "outputs": [
    {
     "data": {
      "text/plain": [
       "array([  6,  12,  18,  24,  30,  36,  42,  48,  54,  60,  66,  72,  78,\n",
       "        84,  90,  96, 102, 108, 114, 120, 126, 132, 138, 144, 150, 156,\n",
       "       162, 168, 174, 180, 186, 192, 198, 204, 210, 216, 222, 228, 234,\n",
       "       240, 246, 252, 258, 264, 270, 276, 282, 288, 294, 300, 306, 312,\n",
       "       318, 324, 330, 336, 342, 348, 354, 360, 366, 372, 378, 384, 390,\n",
       "       396, 402, 408, 414, 420, 426, 432, 438, 444, 450, 456, 462, 468,\n",
       "       474, 480, 486, 492, 498, 504, 510, 516, 522, 528, 534, 540, 546,\n",
       "       552, 558, 564, 570, 576, 582, 588, 594])"
      ]
     },
     "execution_count": 14,
     "metadata": {},
     "output_type": "execute_result"
    }
   ],
   "source": [
    "x*3"
   ]
  },
  {
   "cell_type": "code",
   "execution_count": 15,
   "id": "bda6cc3b-f6d2-49c2-987f-83bed1461a1e",
   "metadata": {},
   "outputs": [],
   "source": [
    "#we can use airthmetic operators on numpy array but not on python list\n",
    "#numpy provides rich functionalities.\n",
    "#numpy is faster than list."
   ]
  },
  {
   "cell_type": "code",
   "execution_count": 18,
   "id": "e6f25bde-69f6-4655-b2b1-8b8d81eb4ba1",
   "metadata": {},
   "outputs": [
    {
     "name": "stdout",
     "output_type": "stream",
     "text": [
      "[ 2  4  6  8 10 12 14 16 18]\n",
      "** [  4  16  36  64 100 144 196 256 324]\n",
      "// [1 2 3 4 5 6 7 8 9]\n",
      "% [2 1 0 2 1 0 2 1 0]\n"
     ]
    }
   ],
   "source": [
    "x=np.arange(2,20,2)\n",
    "print(x)\n",
    "print(\"**\",x**2)\n",
    "print(\"//\",x//2)\n",
    "print(\"%\",x%3)"
   ]
  },
  {
   "cell_type": "code",
   "execution_count": 20,
   "id": "b47132ae-96ab-4119-938a-9504320e5947",
   "metadata": {},
   "outputs": [
    {
     "data": {
      "text/plain": [
       "array([0., 0., 0., 0., 0., 0.])"
      ]
     },
     "execution_count": 20,
     "metadata": {},
     "output_type": "execute_result"
    }
   ],
   "source": [
    "x=np.zeros(6)\n",
    "x"
   ]
  },
  {
   "cell_type": "code",
   "execution_count": 22,
   "id": "cd78be61-e2d9-42f1-badc-53bd7f80ec13",
   "metadata": {},
   "outputs": [
    {
     "data": {
      "text/plain": [
       "array([1., 1., 1., 1., 1., 1.])"
      ]
     },
     "execution_count": 22,
     "metadata": {},
     "output_type": "execute_result"
    }
   ],
   "source": [
    "x=np.ones(6)\n",
    "x"
   ]
  },
  {
   "cell_type": "code",
   "execution_count": 28,
   "id": "2156682c-f48a-4db8-adb9-045e24ac01ae",
   "metadata": {},
   "outputs": [
    {
     "data": {
      "text/plain": [
       "array([[1, 1, 1],\n",
       "       [1, 1, 1],\n",
       "       [1, 1, 1]])"
      ]
     },
     "execution_count": 28,
     "metadata": {},
     "output_type": "execute_result"
    }
   ],
   "source": [
    "x=np.ones((3,3),dtype=\"int\")\n",
    "x"
   ]
  },
  {
   "cell_type": "code",
   "execution_count": 26,
   "id": "c828251f-b28e-4e53-8977-83941e71cdba",
   "metadata": {},
   "outputs": [
    {
     "data": {
      "text/plain": [
       "array([[0., 0., 0., 0., 0., 0., 0., 0., 0., 0.],\n",
       "       [0., 0., 0., 0., 0., 0., 0., 0., 0., 0.],\n",
       "       [0., 0., 0., 0., 0., 0., 0., 0., 0., 0.],\n",
       "       [0., 0., 0., 0., 0., 0., 0., 0., 0., 0.],\n",
       "       [0., 0., 0., 0., 0., 0., 0., 0., 0., 0.],\n",
       "       [0., 0., 0., 0., 0., 0., 0., 0., 0., 0.],\n",
       "       [0., 0., 0., 0., 0., 0., 0., 0., 0., 0.],\n",
       "       [0., 0., 0., 0., 0., 0., 0., 0., 0., 0.],\n",
       "       [0., 0., 0., 0., 0., 0., 0., 0., 0., 0.],\n",
       "       [0., 0., 0., 0., 0., 0., 0., 0., 0., 0.]])"
      ]
     },
     "execution_count": 26,
     "metadata": {},
     "output_type": "execute_result"
    }
   ],
   "source": [
    "x=np.zeros((10,10))\n",
    "x"
   ]
  },
  {
   "cell_type": "code",
   "execution_count": 114,
   "id": "0df7b5b7-df2c-4ab2-9861-377ee129aba1",
   "metadata": {},
   "outputs": [
    {
     "data": {
      "text/plain": [
       "array([[3.14, 3.14, 3.14, 3.14, 3.14, 3.14],\n",
       "       [3.14, 3.14, 3.14, 3.14, 3.14, 3.14],\n",
       "       [3.14, 3.14, 3.14, 3.14, 3.14, 3.14],\n",
       "       [3.14, 3.14, 3.14, 3.14, 3.14, 3.14],\n",
       "       [3.14, 3.14, 3.14, 3.14, 3.14, 3.14],\n",
       "       [3.14, 3.14, 3.14, 3.14, 3.14, 3.14]])"
      ]
     },
     "execution_count": 114,
     "metadata": {},
     "output_type": "execute_result"
    }
   ],
   "source": [
    "x=np.full((6,6),3.14)\n",
    "x"
   ]
  },
  {
   "cell_type": "code",
   "execution_count": 33,
   "id": "90090479-2aa6-4474-b01d-c76c070caa3d",
   "metadata": {},
   "outputs": [
    {
     "data": {
      "text/plain": [
       "array([[1, 1],\n",
       "       [1, 1]])"
      ]
     },
     "execution_count": 33,
     "metadata": {},
     "output_type": "execute_result"
    }
   ],
   "source": [
    "x=np.full()\n",
    "x"
   ]
  },
  {
   "cell_type": "code",
   "execution_count": 35,
   "id": "f50abb6d-cfce-40fc-a202-7ed0f3b6d6a4",
   "metadata": {},
   "outputs": [
    {
     "data": {
      "text/plain": [
       "array([[1., 0., 0., 0., 0.],\n",
       "       [0., 1., 0., 0., 0.],\n",
       "       [0., 0., 1., 0., 0.],\n",
       "       [0., 0., 0., 1., 0.],\n",
       "       [0., 0., 0., 0., 1.]])"
      ]
     },
     "execution_count": 35,
     "metadata": {},
     "output_type": "execute_result"
    }
   ],
   "source": [
    "x=np.eye(5)#gives identity matrix\n",
    "x"
   ]
  },
  {
   "cell_type": "code",
   "execution_count": 37,
   "id": "71044390-3da4-410e-be30-aa7d1ea014e6",
   "metadata": {},
   "outputs": [
    {
     "data": {
      "text/plain": [
       "array([[0.12283911, 0.98245701, 0.70823784, 0.75108681, 0.92474551],\n",
       "       [0.81543422, 0.82570757, 0.60943128, 0.93649292, 0.73042709],\n",
       "       [0.14843902, 0.27605824, 0.58901283, 0.26925225, 0.36653528],\n",
       "       [0.63031667, 0.6604211 , 0.84629157, 0.08566508, 0.59478417],\n",
       "       [0.35188512, 0.88170353, 0.45359372, 0.01945588, 0.47002853]])"
      ]
     },
     "execution_count": 37,
     "metadata": {},
     "output_type": "execute_result"
    }
   ],
   "source": [
    "x=np.random.random((5,5))#to generate random number matrix b/w 0 and 1\n",
    "x"
   ]
  },
  {
   "cell_type": "code",
   "execution_count": 40,
   "id": "b10bd7e5-0f6e-4889-a7b1-445562089b1f",
   "metadata": {},
   "outputs": [
    {
     "data": {
      "text/plain": [
       "array([[0.4359949 , 0.02592623, 0.54966248, 0.43532239, 0.4203678 ],\n",
       "       [0.33033482, 0.20464863, 0.61927097, 0.29965467, 0.26682728],\n",
       "       [0.62113383, 0.52914209, 0.13457995, 0.51357812, 0.18443987],\n",
       "       [0.78533515, 0.85397529, 0.49423684, 0.84656149, 0.07964548],\n",
       "       [0.50524609, 0.0652865 , 0.42812233, 0.09653092, 0.12715997]])"
      ]
     },
     "execution_count": 40,
     "metadata": {},
     "output_type": "execute_result"
    }
   ],
   "source": [
    "np.random.seed(2)# to freez the generated numbers at time\n",
    "x=np.random.random((5,5))\n",
    "x"
   ]
  },
  {
   "cell_type": "code",
   "execution_count": 44,
   "id": "3ff2a24f-fda9-487d-a1fc-c78badb76a35",
   "metadata": {},
   "outputs": [
    {
     "data": {
      "text/plain": [
       "array([[6, 6, 7, 7, 7, 6],\n",
       "       [6, 8, 8, 7, 7, 8],\n",
       "       [7, 8, 6, 8, 7, 6],\n",
       "       [8, 6, 8, 6, 8, 7],\n",
       "       [6, 6, 8, 8, 7, 7],\n",
       "       [7, 8, 7, 8, 6, 7]])"
      ]
     },
     "execution_count": 44,
     "metadata": {},
     "output_type": "execute_result"
    }
   ],
   "source": [
    "x=np.random.randint(6,9,(6,6))\n",
    "x"
   ]
  },
  {
   "cell_type": "code",
   "execution_count": 48,
   "id": "06be196c-74cc-431d-b753-2b15f2d2324a",
   "metadata": {},
   "outputs": [
    {
     "data": {
      "text/plain": [
       "array([3, 6, 2, 4, 4])"
      ]
     },
     "execution_count": 48,
     "metadata": {},
     "output_type": "execute_result"
    }
   ],
   "source": [
    "x=np.random.randint(1,10,5)\n",
    "x"
   ]
  },
  {
   "cell_type": "code",
   "execution_count": 82,
   "id": "91a64c9c-4cd0-483a-88c4-6602b305ce14",
   "metadata": {},
   "outputs": [
    {
     "data": {
      "text/plain": [
       "array([[5, 5, 3, 9, 1, 8],\n",
       "       [1, 4, 6, 2, 6, 7],\n",
       "       [5, 0, 1, 5, 6, 9],\n",
       "       [8, 8, 2, 6, 0, 6],\n",
       "       [0, 4, 3, 3, 7, 0],\n",
       "       [9, 2, 2, 3, 5, 6]])"
      ]
     },
     "execution_count": 82,
     "metadata": {},
     "output_type": "execute_result"
    }
   ],
   "source": [
    "x=np.random.randint(10,size=(6,6))\n",
    "x"
   ]
  },
  {
   "cell_type": "code",
   "execution_count": 56,
   "id": "1c0edb84-77c3-4ac8-acf1-02f51fe918b3",
   "metadata": {},
   "outputs": [
    {
     "data": {
      "text/plain": [
       "0"
      ]
     },
     "execution_count": 56,
     "metadata": {},
     "output_type": "execute_result"
    }
   ],
   "source": [
    "np.min(x)"
   ]
  },
  {
   "cell_type": "code",
   "execution_count": 57,
   "id": "b91e4ea1-1221-4f05-a686-a617b1a86ac7",
   "metadata": {},
   "outputs": [
    {
     "data": {
      "text/plain": [
       "9"
      ]
     },
     "execution_count": 57,
     "metadata": {},
     "output_type": "execute_result"
    }
   ],
   "source": [
    "np.max(x)"
   ]
  },
  {
   "cell_type": "code",
   "execution_count": 61,
   "id": "2e5c7732-db26-46cc-a4d1-aea4844be27f",
   "metadata": {},
   "outputs": [
    {
     "data": {
      "text/plain": [
       "array([1, 2, 0, 1, 1, 2])"
      ]
     },
     "execution_count": 61,
     "metadata": {},
     "output_type": "execute_result"
    }
   ],
   "source": [
    "np.min(x,axis=0) #min values of columns"
   ]
  },
  {
   "cell_type": "code",
   "execution_count": 63,
   "id": "a089c88e-b841-4f5e-90b8-089e6eea6374",
   "metadata": {},
   "outputs": [
    {
     "data": {
      "text/plain": [
       "array([1, 1, 1, 0, 1, 0])"
      ]
     },
     "execution_count": 63,
     "metadata": {},
     "output_type": "execute_result"
    }
   ],
   "source": [
    "np.min(x,axis=1)#min values of rows\n"
   ]
  },
  {
   "cell_type": "code",
   "execution_count": 64,
   "id": "4c071489-8322-4747-815a-8f29bf4080af",
   "metadata": {},
   "outputs": [
    {
     "data": {
      "text/plain": [
       "3.3055555555555554"
      ]
     },
     "execution_count": 64,
     "metadata": {},
     "output_type": "execute_result"
    }
   ],
   "source": [
    "np.mean(x)"
   ]
  },
  {
   "cell_type": "code",
   "execution_count": 68,
   "id": "82e9b80b-406f-48bc-972d-36d385765620",
   "metadata": {},
   "outputs": [
    {
     "data": {
      "text/plain": [
       "array([4.83333333, 3.        , 2.33333333, 2.33333333, 3.16666667,\n",
       "       4.16666667])"
      ]
     },
     "execution_count": 68,
     "metadata": {},
     "output_type": "execute_result"
    }
   ],
   "source": [
    "np.mean(x,axis=1)#mean values of rows"
   ]
  },
  {
   "cell_type": "code",
   "execution_count": 70,
   "id": "1f4ccffe-dcba-4aeb-a8ca-938936badc84",
   "metadata": {},
   "outputs": [
    {
     "data": {
      "text/plain": [
       "array([2.33333333, 5.16666667, 1.5       , 3.33333333, 2.66666667,\n",
       "       4.83333333])"
      ]
     },
     "execution_count": 70,
     "metadata": {},
     "output_type": "execute_result"
    }
   ],
   "source": [
    "np.mean(x,axis=0)#mean values of columns"
   ]
  },
  {
   "cell_type": "code",
   "execution_count": 71,
   "id": "24925775-6153-4802-88d5-ddfc177f499b",
   "metadata": {},
   "outputs": [
    {
     "data": {
      "text/plain": [
       "3.0"
      ]
     },
     "execution_count": 71,
     "metadata": {},
     "output_type": "execute_result"
    }
   ],
   "source": [
    "np.median(x)"
   ]
  },
  {
   "cell_type": "code",
   "execution_count": 72,
   "id": "1f3e5a2e-2a9a-424d-ac6d-ad0a132fc042",
   "metadata": {},
   "outputs": [
    {
     "data": {
      "text/plain": [
       "array([5.5, 2. , 2.5, 2.5, 2.5, 3.5])"
      ]
     },
     "execution_count": 72,
     "metadata": {},
     "output_type": "execute_result"
    }
   ],
   "source": [
    "np.median(x,axis=1)#medians of rows"
   ]
  },
  {
   "cell_type": "code",
   "execution_count": 73,
   "id": "51c86ce2-09b0-424c-9a8a-d7ab7ed32c77",
   "metadata": {},
   "outputs": [
    {
     "data": {
      "text/plain": [
       "array([2. , 4.5, 1.5, 3. , 2.5, 6. ])"
      ]
     },
     "execution_count": 73,
     "metadata": {},
     "output_type": "execute_result"
    }
   ],
   "source": [
    "np.median(x,axis=0)#median of columns"
   ]
  },
  {
   "cell_type": "code",
   "execution_count": 78,
   "id": "d2e5df69-06c3-46c0-b578-a89bb27eb05a",
   "metadata": {},
   "outputs": [
    {
     "name": "stdout",
     "output_type": "stream",
     "text": [
      "[2 3 4 5 6 7 8 9]\n",
      "Sin theta= [ 0.90929743  0.14112001 -0.7568025  -0.95892427 -0.2794155   0.6569866\n",
      "  0.98935825  0.41211849]\n",
      "Cos theta= [-0.41614684 -0.9899925  -0.65364362  0.28366219  0.96017029  0.75390225\n",
      " -0.14550003 -0.91113026]\n",
      "Tan theta= [-2.18503986 -0.14254654  1.15782128 -3.38051501 -0.29100619  0.87144798\n",
      " -6.79971146 -0.45231566]\n"
     ]
    }
   ],
   "source": [
    "x=np.arange(2,10,1)\n",
    "print(x)\n",
    "print(\"Sin theta=\",np.sin(x))\n",
    "print(\"Cos theta=\",np.cos(x))\n",
    "print(\"Tan theta=\",np.tan(x))"
   ]
  },
  {
   "cell_type": "code",
   "execution_count": 84,
   "id": "6f8d6950-4510-41ef-99b9-8a45fe85a8f3",
   "metadata": {},
   "outputs": [
    {
     "name": "stdout",
     "output_type": "stream",
     "text": [
      "[2 3 4 5 6 7 8 9]\n",
      "log values base e= [0.69314718 1.09861229 1.38629436 1.60943791 1.79175947 1.94591015\n",
      " 2.07944154 2.19722458]\n",
      "log values base 2= [1.         1.5849625  2.         2.32192809 2.5849625  2.80735492\n",
      " 3.         3.169925  ]\n",
      "log values base 10= [0.30103    0.47712125 0.60205999 0.69897    0.77815125 0.84509804\n",
      " 0.90308999 0.95424251]\n"
     ]
    }
   ],
   "source": [
    "x=np.arange(2,10,1)\n",
    "print(x)\n",
    "print(\"log values base e=\",np.log(x))\n",
    "print(\"log values base 2=\",np.log2(x))\n",
    "print(\"log values base 10=\",np.log10(x))"
   ]
  },
  {
   "cell_type": "code",
   "execution_count": 89,
   "id": "4c5ea24d-fa63-4035-826a-9b77df394707",
   "metadata": {},
   "outputs": [
    {
     "name": "stdout",
     "output_type": "stream",
     "text": [
      "2\n",
      "int32\n",
      "4\n",
      "144\n",
      "36\n"
     ]
    }
   ],
   "source": [
    "x=np.random.randint(2,40,(6,6))\n",
    "print(x.ndim)\n",
    "print(x.dtype)\n",
    "print(x.itemsize)#size of each item\n",
    "print(x.nbytes)#no of bytes\n",
    "print(x.size)#no of elements"
   ]
  },
  {
   "cell_type": "code",
   "execution_count": 91,
   "id": "07806fd3-29f4-4928-ac8c-bf8728c7a587",
   "metadata": {},
   "outputs": [
    {
     "data": {
      "text/plain": [
       "array([[23, 42, 17, 22, 35],\n",
       "       [35, 14, 20,  9, 43],\n",
       "       [24, 42, 28, 11, 40],\n",
       "       [49, 41, 41,  5, 13],\n",
       "       [31, 45, 31, 29, 48]])"
      ]
     },
     "execution_count": 91,
     "metadata": {},
     "output_type": "execute_result"
    }
   ],
   "source": [
    "x=np.random.randint(2,50,(5,5))\n",
    "x"
   ]
  },
  {
   "cell_type": "code",
   "execution_count": 99,
   "id": "32a096a8-bbe6-4ee0-af19-5a35a923a066",
   "metadata": {},
   "outputs": [
    {
     "data": {
      "text/plain": [
       "array([[99, 42],\n",
       "       [35, 14]])"
      ]
     },
     "execution_count": 99,
     "metadata": {},
     "output_type": "execute_result"
    }
   ],
   "source": [
    "x_sub=x[:2,:2]#to slice subpart of big array\n",
    "x_sub"
   ]
  },
  {
   "cell_type": "code",
   "execution_count": 93,
   "id": "4e530dde-e2fb-4e8d-be54-f2475dc006de",
   "metadata": {},
   "outputs": [
    {
     "data": {
      "text/plain": [
       "array([[99, 42],\n",
       "       [35, 14]])"
      ]
     },
     "execution_count": 93,
     "metadata": {},
     "output_type": "execute_result"
    }
   ],
   "source": [
    "x_sub[0,0]=99#to update array element\n",
    "x_sub"
   ]
  },
  {
   "cell_type": "code",
   "execution_count": 95,
   "id": "56201fdc-3a71-4e77-96d4-2715db96054f",
   "metadata": {},
   "outputs": [
    {
     "data": {
      "text/plain": [
       "array([[28, 11],\n",
       "       [41,  5]])"
      ]
     },
     "execution_count": 95,
     "metadata": {},
     "output_type": "execute_result"
    }
   ],
   "source": [
    "x_sub=x[2:4,2:4]\n",
    "x_sub"
   ]
  },
  {
   "cell_type": "code",
   "execution_count": 97,
   "id": "9659f7e1-6f37-40ad-b14e-7d33bc5f2ec6",
   "metadata": {},
   "outputs": [
    {
     "data": {
      "text/plain": [
       "array([[99, 42, 17, 22, 35],\n",
       "       [35, 14, 20,  9, 43],\n",
       "       [24, 42, 28, 11, 40],\n",
       "       [49, 41, 41,  5, 13],\n",
       "       [31, 45, 31, 29, 48]])"
      ]
     },
     "execution_count": 97,
     "metadata": {},
     "output_type": "execute_result"
    }
   ],
   "source": [
    "x#updated part in subarray makes the impact on actual array also"
   ]
  },
  {
   "cell_type": "code",
   "execution_count": 101,
   "id": "21085a85-8264-4d3b-b4ec-64917a163391",
   "metadata": {},
   "outputs": [
    {
     "data": {
      "text/plain": [
       "array([[4, 2, 4, 5, 6],\n",
       "       [2, 3, 6, 4, 5],\n",
       "       [6, 4, 2, 9, 6],\n",
       "       [4, 4, 7, 7, 7],\n",
       "       [4, 3, 6, 2, 9]])"
      ]
     },
     "execution_count": 101,
     "metadata": {},
     "output_type": "execute_result"
    }
   ],
   "source": [
    "#if subarray is just copy of actual array than change in subarray will not impact actual array\n",
    "x=np.random.randint(2,10,(5,5))\n",
    "x"
   ]
  },
  {
   "cell_type": "code",
   "execution_count": 102,
   "id": "4cef8541-0c3e-47f6-89b7-661a1676c75a",
   "metadata": {},
   "outputs": [
    {
     "data": {
      "text/plain": [
       "array([[4, 2],\n",
       "       [2, 3]])"
      ]
     },
     "execution_count": 102,
     "metadata": {},
     "output_type": "execute_result"
    }
   ],
   "source": [
    "x_sub=x[0:2,0:2].copy()\n",
    "x_sub"
   ]
  },
  {
   "cell_type": "code",
   "execution_count": 105,
   "id": "8720face-af4f-4ccd-abbc-169f5f6d854d",
   "metadata": {},
   "outputs": [
    {
     "data": {
      "text/plain": [
       "array([[100,   2],\n",
       "       [  2,   3]])"
      ]
     },
     "execution_count": 105,
     "metadata": {},
     "output_type": "execute_result"
    }
   ],
   "source": [
    "x_sub[0,0]=100#updation at first element of subarray\n",
    "x_sub"
   ]
  },
  {
   "cell_type": "code",
   "execution_count": 106,
   "id": "e94dfe49-f6e8-49c7-9503-70f4b1889ec8",
   "metadata": {},
   "outputs": [
    {
     "data": {
      "text/plain": [
       "array([[4, 2, 4, 5, 6],\n",
       "       [2, 3, 6, 4, 5],\n",
       "       [6, 4, 2, 9, 6],\n",
       "       [4, 4, 7, 7, 7],\n",
       "       [4, 3, 6, 2, 9]])"
      ]
     },
     "execution_count": 106,
     "metadata": {},
     "output_type": "execute_result"
    }
   ],
   "source": [
    "x"
   ]
  },
  {
   "cell_type": "code",
   "execution_count": 107,
   "id": "b288b036-23e6-424c-9591-0a8e69d2c364",
   "metadata": {},
   "outputs": [
    {
     "data": {
      "text/plain": [
       "array([[1, 2, 3, 1, 2, 3],\n",
       "       [4, 5, 6, 4, 5, 6]])"
      ]
     },
     "execution_count": 107,
     "metadata": {},
     "output_type": "execute_result"
    }
   ],
   "source": [
    "grid=[[1,2,3],\n",
    "      [4,5,6]]\n",
    "x=np.concatenate([grid,grid],axis=1)\n",
    "x"
   ]
  },
  {
   "cell_type": "code",
   "execution_count": 108,
   "id": "f2da01b7-baee-4e32-8e9c-bd3c16a86e1a",
   "metadata": {},
   "outputs": [
    {
     "data": {
      "text/plain": [
       "array([[ 0,  1,  2,  3],\n",
       "       [ 4,  5,  6,  7],\n",
       "       [ 8,  9, 10, 11],\n",
       "       [12, 13, 14, 15]])"
      ]
     },
     "execution_count": 108,
     "metadata": {},
     "output_type": "execute_result"
    }
   ],
   "source": [
    "#reshape to convert a 1d array into 2d array\n",
    "x=np.arange(16).reshape(4,4)\n",
    "x"
   ]
  },
  {
   "cell_type": "code",
   "execution_count": 109,
   "id": "e661e4a7-cfeb-47f7-9e66-16dbb9a9ca8f",
   "metadata": {},
   "outputs": [
    {
     "data": {
      "text/plain": [
       "3.141592653589793"
      ]
     },
     "execution_count": 109,
     "metadata": {},
     "output_type": "execute_result"
    }
   ],
   "source": [
    "np.pi"
   ]
  },
  {
   "cell_type": "code",
   "execution_count": 111,
   "id": "151dba4f-b406-478b-b994-fbd0489e8953",
   "metadata": {},
   "outputs": [
    {
     "data": {
      "text/plain": [
       "array([[1, 2, 3],\n",
       "       [5, 6, 7]])"
      ]
     },
     "execution_count": 111,
     "metadata": {},
     "output_type": "execute_result"
    }
   ],
   "source": [
    "x=np.vstack(([1,2,3],[5,6,7]))\n",
    "x"
   ]
  },
  {
   "cell_type": "code",
   "execution_count": 112,
   "id": "dc72f458-9140-4ed9-9476-cb085a15fc89",
   "metadata": {},
   "outputs": [
    {
     "data": {
      "text/plain": [
       "array([1, 2, 3, 4, 5, 6])"
      ]
     },
     "execution_count": 112,
     "metadata": {},
     "output_type": "execute_result"
    }
   ],
   "source": [
    "x=np.hstack(([1,2,3],[4,5,6]))\n",
    "x"
   ]
  },
  {
   "cell_type": "code",
   "execution_count": 116,
   "id": "76f76447-1564-41e1-955a-7da2101e4d15",
   "metadata": {},
   "outputs": [
    {
     "data": {
      "text/plain": [
       "array([[1, 2, 3],\n",
       "       [4, 5, 6],\n",
       "       [5, 6, 7],\n",
       "       [7, 8, 9]])"
      ]
     },
     "execution_count": 116,
     "metadata": {},
     "output_type": "execute_result"
    }
   ],
   "source": [
    "x=np.vstack(([[1,2,3],[4,5,6]],[[5,6,7],[7,8,9]]))\n",
    "x"
   ]
  },
  {
   "cell_type": "code",
   "execution_count": null,
   "id": "4567b6aa-97ce-4c90-bb1a-06f14820a089",
   "metadata": {},
   "outputs": [],
   "source": [
    "#in vstack and hstack input/parameter is passed as tuple."
   ]
  }
 ],
 "metadata": {
  "kernelspec": {
   "display_name": "Python 3 (ipykernel)",
   "language": "python",
   "name": "python3"
  },
  "language_info": {
   "codemirror_mode": {
    "name": "ipython",
    "version": 3
   },
   "file_extension": ".py",
   "mimetype": "text/x-python",
   "name": "python",
   "nbconvert_exporter": "python",
   "pygments_lexer": "ipython3",
   "version": "3.9.7"
  }
 },
 "nbformat": 4,
 "nbformat_minor": 5
}
