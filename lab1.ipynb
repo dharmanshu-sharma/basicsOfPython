{
 "cells": [
  {
   "cell_type": "code",
   "execution_count": 1,
   "id": "ba49bbec",
   "metadata": {},
   "outputs": [
    {
     "name": "stdout",
     "output_type": "stream",
     "text": [
      "hello\n"
     ]
    }
   ],
   "source": [
    "print(\"hello\")"
   ]
  },
  {
   "cell_type": "code",
   "execution_count": 2,
   "id": "858f9f49",
   "metadata": {},
   "outputs": [
    {
     "data": {
      "text/plain": [
       "str"
      ]
     },
     "execution_count": 2,
     "metadata": {},
     "output_type": "execute_result"
    }
   ],
   "source": [
    "z=\"True\"\n",
    "type(z)"
   ]
  },
  {
   "cell_type": "code",
   "execution_count": 3,
   "id": "03ecef7a",
   "metadata": {},
   "outputs": [
    {
     "data": {
      "text/plain": [
       "'welocome to ml trainingTrue'"
      ]
     },
     "execution_count": 3,
     "metadata": {},
     "output_type": "execute_result"
    }
   ],
   "source": [
    "w=\"welocome to ml training\"\n",
    "w+z"
   ]
  },
  {
   "cell_type": "code",
   "execution_count": 4,
   "id": "f553e029",
   "metadata": {},
   "outputs": [
    {
     "name": "stdout",
     "output_type": "stream",
     "text": [
      "value of x:  10\n",
      "value of y:  20.2\n"
     ]
    }
   ],
   "source": [
    "x=10\n",
    "y=20.2\n",
    "z=True\n",
    "print(\"value of x: \",x)\n",
    "print(\"value of y: \",y)"
   ]
  },
  {
   "cell_type": "code",
   "execution_count": 5,
   "id": "22bfe460",
   "metadata": {},
   "outputs": [
    {
     "name": "stdout",
     "output_type": "stream",
     "text": [
      "x+y 30.2\n",
      "x-y -10.2\n",
      "x*y 202.0\n",
      "x/y 0.49504950495049505\n"
     ]
    }
   ],
   "source": [
    "print(\"x+y\",x+y)\n",
    "print(\"x-y\",x-y)\n",
    "print(\"x*y\",x*y)\n",
    "print(\"x/y\",x/y)"
   ]
  },
  {
   "cell_type": "code",
   "execution_count": 6,
   "id": "acef3a3b",
   "metadata": {},
   "outputs": [
    {
     "name": "stdout",
     "output_type": "stream",
     "text": [
      "x**y 1.5848931924611108e+20\n",
      "x//y 0.0\n",
      "x%y 10.0\n"
     ]
    }
   ],
   "source": [
    "print(\"x**y\",x**y)\n",
    "print(\"x//y\",x//y)\n",
    "print(\"x%y\",x%y)"
   ]
  },
  {
   "cell_type": "code",
   "execution_count": 7,
   "id": "fee8693d",
   "metadata": {},
   "outputs": [
    {
     "data": {
      "text/plain": [
       "16"
      ]
     },
     "execution_count": 7,
     "metadata": {},
     "output_type": "execute_result"
    }
   ],
   "source": [
    "2**4"
   ]
  },
  {
   "cell_type": "code",
   "execution_count": 8,
   "id": "6b843331",
   "metadata": {},
   "outputs": [
    {
     "data": {
      "text/plain": [
       "6"
      ]
     },
     "execution_count": 8,
     "metadata": {},
     "output_type": "execute_result"
    }
   ],
   "source": [
    "2^4"
   ]
  },
  {
   "cell_type": "code",
   "execution_count": 9,
   "id": "0005a7ed",
   "metadata": {},
   "outputs": [
    {
     "data": {
      "text/plain": [
       "1"
      ]
     },
     "execution_count": 9,
     "metadata": {},
     "output_type": "execute_result"
    }
   ],
   "source": [
    "2^3 #x-or operator"
   ]
  },
  {
   "cell_type": "code",
   "execution_count": 15,
   "id": "e82cace4",
   "metadata": {},
   "outputs": [
    {
     "name": "stdout",
     "output_type": "stream",
     "text": [
      "75.435   <class 'str'>\n",
      "75.435   <class 'float'>\n"
     ]
    }
   ],
   "source": [
    "x=\"75.435\"\n",
    "print(x,\" \",type(x))\n",
    "y=float(x)\n",
    "print(y,\" \",type(y))\n"
   ]
  },
  {
   "cell_type": "code",
   "execution_count": 12,
   "id": "9a0220bd",
   "metadata": {},
   "outputs": [
    {
     "name": "stdout",
     "output_type": "stream",
     "text": [
      "welcome   <class 'str'>\n"
     ]
    },
    {
     "ename": "ValueError",
     "evalue": "invalid literal for int() with base 10: 'welcome'",
     "output_type": "error",
     "traceback": [
      "\u001b[1;31m---------------------------------------------------------------------------\u001b[0m",
      "\u001b[1;31mValueError\u001b[0m                                Traceback (most recent call last)",
      "\u001b[1;32m~\\AppData\\Local\\Temp/ipykernel_1388/1350846769.py\u001b[0m in \u001b[0;36m<module>\u001b[1;34m\u001b[0m\n\u001b[0;32m      1\u001b[0m \u001b[0mx\u001b[0m\u001b[1;33m=\u001b[0m\u001b[1;34m\"welcome\"\u001b[0m\u001b[1;33m\u001b[0m\u001b[1;33m\u001b[0m\u001b[0m\n\u001b[0;32m      2\u001b[0m \u001b[0mprint\u001b[0m\u001b[1;33m(\u001b[0m\u001b[0mx\u001b[0m\u001b[1;33m,\u001b[0m\u001b[1;34m\" \"\u001b[0m\u001b[1;33m,\u001b[0m\u001b[0mtype\u001b[0m\u001b[1;33m(\u001b[0m\u001b[0mx\u001b[0m\u001b[1;33m)\u001b[0m\u001b[1;33m)\u001b[0m\u001b[1;33m\u001b[0m\u001b[1;33m\u001b[0m\u001b[0m\n\u001b[1;32m----> 3\u001b[1;33m \u001b[0my\u001b[0m\u001b[1;33m=\u001b[0m\u001b[0mint\u001b[0m\u001b[1;33m(\u001b[0m\u001b[0mx\u001b[0m\u001b[1;33m)\u001b[0m\u001b[1;33m\u001b[0m\u001b[1;33m\u001b[0m\u001b[0m\n\u001b[0m\u001b[0;32m      4\u001b[0m \u001b[0mprint\u001b[0m\u001b[1;33m(\u001b[0m\u001b[0my\u001b[0m\u001b[1;33m,\u001b[0m\u001b[1;34m\" \"\u001b[0m\u001b[1;33m,\u001b[0m\u001b[0mtype\u001b[0m\u001b[1;33m(\u001b[0m\u001b[0my\u001b[0m\u001b[1;33m)\u001b[0m\u001b[1;33m)\u001b[0m\u001b[1;33m\u001b[0m\u001b[1;33m\u001b[0m\u001b[0m\n",
      "\u001b[1;31mValueError\u001b[0m: invalid literal for int() with base 10: 'welcome'"
     ]
    }
   ],
   "source": [
    "x=\"welcome\"\n",
    "print(x,\" \",type(x))\n",
    "y=int(x)\n",
    "print(y,\" \",type(y))\n"
   ]
  },
  {
   "cell_type": "code",
   "execution_count": 14,
   "id": "690ba004",
   "metadata": {},
   "outputs": [
    {
     "name": "stdout",
     "output_type": "stream",
     "text": [
      "75435   <class 'str'>\n",
      "75435   <class 'int'>\n"
     ]
    }
   ],
   "source": [
    "x=\"75435\"\n",
    "print(x,\" \",type(x))\n",
    "y=int(x)\n",
    "print(y,\" \",type(y))\n"
   ]
  },
  {
   "cell_type": "code",
   "execution_count": 16,
   "id": "017100f3",
   "metadata": {},
   "outputs": [
    {
     "name": "stdout",
     "output_type": "stream",
     "text": [
      "75.435   <class 'str'>\n",
      "75   <class 'int'>\n"
     ]
    }
   ],
   "source": [
    "x=\"75.435\"\n",
    "print(x,\" \",type(x))\n",
    "y=int(float(x))\n",
    "print(y,\" \",type(y))\n"
   ]
  },
  {
   "cell_type": "code",
   "execution_count": 17,
   "id": "d22910fc",
   "metadata": {},
   "outputs": [
    {
     "data": {
      "text/plain": [
       "10.0"
      ]
     },
     "execution_count": 17,
     "metadata": {},
     "output_type": "execute_result"
    }
   ],
   "source": [
    "x=10\n",
    "float(x)"
   ]
  },
  {
   "cell_type": "code",
   "execution_count": 19,
   "id": "17590dca",
   "metadata": {},
   "outputs": [
    {
     "name": "stdout",
     "output_type": "stream",
     "text": [
      "True   <class 'bool'>\n",
      "1   <class 'int'>\n"
     ]
    }
   ],
   "source": [
    "x=True\n",
    "print(x,\" \",type(x))\n",
    "y=int(x)\n",
    "print(y,\" \",type(y))\n"
   ]
  },
  {
   "cell_type": "code",
   "execution_count": 21,
   "id": "3fc7f0b8",
   "metadata": {},
   "outputs": [
    {
     "name": "stdout",
     "output_type": "stream",
     "text": [
      "False   <class 'bool'>\n",
      "0   <class 'int'>\n"
     ]
    }
   ],
   "source": [
    "x=False\n",
    "print(x,\" \",type(x))\n",
    "y=int(x)\n",
    "print(y,\" \",type(y))\n"
   ]
  },
  {
   "cell_type": "code",
   "execution_count": 25,
   "id": "04bd58f9",
   "metadata": {},
   "outputs": [
    {
     "name": "stdout",
     "output_type": "stream",
     "text": [
      "0   <class 'int'>\n",
      "False   <class 'bool'>\n"
     ]
    }
   ],
   "source": [
    "x=0\n",
    "print(x,\" \",type(x))\n",
    "y=bool(x)\n",
    "print(y,\" \",type(y))\n"
   ]
  },
  {
   "cell_type": "code",
   "execution_count": 26,
   "id": "f3a1dc33",
   "metadata": {},
   "outputs": [
    {
     "name": "stdout",
     "output_type": "stream",
     "text": [
      "-2   <class 'int'>\n",
      "True   <class 'bool'>\n"
     ]
    }
   ],
   "source": [
    "x=-2\n",
    "print(x,\" \",type(x))\n",
    "y=bool(x)\n",
    "print(y,\" \",type(y))"
   ]
  },
  {
   "cell_type": "code",
   "execution_count": 27,
   "id": "555362f2",
   "metadata": {},
   "outputs": [
    {
     "data": {
      "text/plain": [
       "'A'"
      ]
     },
     "execution_count": 27,
     "metadata": {},
     "output_type": "execute_result"
    }
   ],
   "source": [
    "x=65\n",
    "chr(x)"
   ]
  },
  {
   "cell_type": "code",
   "execution_count": 28,
   "id": "ea81ae52",
   "metadata": {},
   "outputs": [
    {
     "data": {
      "text/plain": [
       "'B'"
      ]
     },
     "execution_count": 28,
     "metadata": {},
     "output_type": "execute_result"
    }
   ],
   "source": [
    "x=66\n",
    "chr(x)"
   ]
  },
  {
   "cell_type": "code",
   "execution_count": 29,
   "id": "8dbfb875",
   "metadata": {},
   "outputs": [
    {
     "data": {
      "text/plain": [
       "str"
      ]
     },
     "execution_count": 29,
     "metadata": {},
     "output_type": "execute_result"
    }
   ],
   "source": [
    "type(chr(x))"
   ]
  },
  {
   "cell_type": "code",
   "execution_count": 30,
   "id": "502330db",
   "metadata": {},
   "outputs": [
    {
     "data": {
      "text/plain": [
       "49"
      ]
     },
     "execution_count": 30,
     "metadata": {},
     "output_type": "execute_result"
    }
   ],
   "source": [
    "ord('1')"
   ]
  },
  {
   "cell_type": "code",
   "execution_count": 34,
   "id": "9d85c3d5",
   "metadata": {},
   "outputs": [
    {
     "data": {
      "text/plain": [
       "'a'"
      ]
     },
     "execution_count": 34,
     "metadata": {},
     "output_type": "execute_result"
    }
   ],
   "source": [
    "chr(97)"
   ]
  },
  {
   "cell_type": "code",
   "execution_count": 32,
   "id": "24b3af1a",
   "metadata": {},
   "outputs": [
    {
     "data": {
      "text/plain": [
       "65"
      ]
     },
     "execution_count": 32,
     "metadata": {},
     "output_type": "execute_result"
    }
   ],
   "source": [
    "ord('A')# to convert character into ascci code"
   ]
  },
  {
   "cell_type": "code",
   "execution_count": 36,
   "id": "2b007c67",
   "metadata": {},
   "outputs": [
    {
     "name": "stdout",
     "output_type": "stream",
     "text": [
      "enter x value:2\n",
      "enter y value:2\n",
      "sum is: 4\n"
     ]
    }
   ],
   "source": [
    "x=int(input(\"enter x value:\"))\n",
    "y=int(input(\"enter y value:\"))\n",
    "print(\"sum is:\",x+y)"
   ]
  },
  {
   "cell_type": "code",
   "execution_count": null,
   "id": "0f700f16",
   "metadata": {},
   "outputs": [],
   "source": [
    "#Assignment\n",
    "1. area=l*b/2\n",
    "2. area=pi*r*r\n",
    "3. area=pi*r^2*h\n",
    "4. area=2*pi*r*h\n",
    "5. c=(f-32)*5/9\n",
    "6. s=prt/100\n",
    "7. y=mx+c\n",
    "8. dollar to rupees"
   ]
  },
  {
   "cell_type": "code",
   "execution_count": 37,
   "id": "786e924b",
   "metadata": {},
   "outputs": [
    {
     "name": "stdout",
     "output_type": "stream",
     "text": [
      "enter length:10\n",
      "enter breadth:10\n",
      "Area of Triangle is: 50.0\n"
     ]
    }
   ],
   "source": [
    "l=float(input(\"enter length:\"))\n",
    "b=float(input(\"enter breadth:\"))\n",
    "print(\"Area of Triangle is:\",l*b/2)\n"
   ]
  },
  {
   "cell_type": "code",
   "execution_count": 39,
   "id": "6ed6c92d",
   "metadata": {},
   "outputs": [
    {
     "name": "stdout",
     "output_type": "stream",
     "text": [
      "enter radius of circle:10\n",
      "Area of circle is: 314.1592653589793\n"
     ]
    }
   ],
   "source": [
    "import math\n",
    "r=float(input(\"enter radius of circle:\"))\n",
    "print(\"Area of circle is:\",math.pi*r**2)"
   ]
  },
  {
   "cell_type": "code",
   "execution_count": 40,
   "id": "fdab6ea0",
   "metadata": {},
   "outputs": [
    {
     "name": "stdout",
     "output_type": "stream",
     "text": [
      "enter raidus of cylinder:10\n",
      "enter height of cylinder:10\n",
      "Volume of cylinder is: 3141.5926535897934\n"
     ]
    }
   ],
   "source": [
    "r=float(input(\"enter raidus of cylinder:\"))\n",
    "h=float(input(\"enter height of cylinder:\"))\n",
    "print(\"Volume of cylinder is:\",math.pi*r**2*h)"
   ]
  },
  {
   "cell_type": "code",
   "execution_count": 41,
   "id": "3f1650c6",
   "metadata": {},
   "outputs": [
    {
     "name": "stdout",
     "output_type": "stream",
     "text": [
      "enter raidus of cylinder:10\n",
      "enter height of cylinder:10\n",
      "Curved surface area of cylinder is: 628.3185307179587\n"
     ]
    }
   ],
   "source": [
    "r=float(input(\"enter raidus of cylinder:\"))\n",
    "h=float(input(\"enter height of cylinder:\"))\n",
    "print(\"Curved surface area of cylinder is:\",2*math.pi*r*h)"
   ]
  },
  {
   "cell_type": "code",
   "execution_count": 44,
   "id": "45ba982d",
   "metadata": {},
   "outputs": [
    {
     "name": "stdout",
     "output_type": "stream",
     "text": [
      "enter temp in Farenhiet:33\n",
      "Temp in celcius is: 0.5555555555555556\n"
     ]
    }
   ],
   "source": [
    "f=float(input(\"enter temp in Farenhiet:\"))\n",
    "c=(f-32)*5/9\n",
    "print(\"Temp in calcius is:\",c)"
   ]
  },
  {
   "cell_type": "markdown",
   "id": "1978d3cb",
   "metadata": {},
   "source": []
  },
  {
   "cell_type": "code",
   "execution_count": 47,
   "id": "d17dea35",
   "metadata": {},
   "outputs": [
    {
     "name": "stdout",
     "output_type": "stream",
     "text": [
      "enter principal:200\n",
      "enter rate:3\n",
      "enter time:3\n",
      "Simple interest is: 18.0\n"
     ]
    }
   ],
   "source": [
    "p=float(input(\"enter principal:\"))\n",
    "r=float(input(\"enter rate:\"))#yearly rate\n",
    "t=float(input(\"enter time:\"))\n",
    "s=p*r*t/100\n",
    "print(\"Simple interest is:\",s)"
   ]
  },
  {
   "cell_type": "code",
   "execution_count": 77,
   "id": "1bf58f36",
   "metadata": {},
   "outputs": [
    {
     "name": "stdout",
     "output_type": "stream",
     "text": [
      "enter slope of line:3\n",
      "enter intercept on y axis:4\n",
      "equation of line is:\n",
      " y=3.000000x+4.000000\n"
     ]
    }
   ],
   "source": [
    "m=float(input(\"enter slope of line:\"))\n",
    "c=float(input(\"enter intercept on y axis:\"))\n",
    "print(\"equation of line is:\\n y=%fx+%f\"%(m,c))"
   ]
  },
  {
   "cell_type": "code",
   "execution_count": 54,
   "id": "1a7e06c6",
   "metadata": {},
   "outputs": [
    {
     "name": "stdout",
     "output_type": "stream",
     "text": [
      "No. of dollar:5\n",
      "total money in INR: 400\n"
     ]
    }
   ],
   "source": [
    "d=int(input(\"No. of dollar:\"))\n",
    "print(\"total money in INR:\",d*80)"
   ]
  },
  {
   "cell_type": "code",
   "execution_count": 49,
   "id": "342bb834",
   "metadata": {},
   "outputs": [
    {
     "name": "stdout",
     "output_type": "stream",
     "text": [
      "[1, 2, 'A', 'c', True, 12.2]\n"
     ]
    }
   ],
   "source": [
    "x=[1,2,'A','c',True,12.2]\n",
    "print(x)"
   ]
  },
  {
   "cell_type": "code",
   "execution_count": 51,
   "id": "69df5e71",
   "metadata": {},
   "outputs": [
    {
     "data": {
      "text/plain": [
       "list"
      ]
     },
     "execution_count": 51,
     "metadata": {},
     "output_type": "execute_result"
    }
   ],
   "source": [
    "type(x)"
   ]
  },
  {
   "cell_type": "code",
   "execution_count": 55,
   "id": "4316148c",
   "metadata": {},
   "outputs": [
    {
     "name": "stdout",
     "output_type": "stream",
     "text": [
      "1\n",
      "2\n",
      "A\n",
      "c\n",
      "True\n",
      "12.2\n"
     ]
    }
   ],
   "source": [
    "for i in x:\n",
    "    print(i)"
   ]
  },
  {
   "cell_type": "code",
   "execution_count": 56,
   "id": "da9d839c",
   "metadata": {},
   "outputs": [
    {
     "name": "stdout",
     "output_type": "stream",
     "text": [
      "[1, 2, 'A', 'c']\n"
     ]
    }
   ],
   "source": [
    "print(x[0:4])"
   ]
  },
  {
   "cell_type": "code",
   "execution_count": 57,
   "id": "63d08d6b",
   "metadata": {},
   "outputs": [
    {
     "name": "stdout",
     "output_type": "stream",
     "text": [
      "[12.2, True, 'c', 'A', 2, 1]\n"
     ]
    }
   ],
   "source": [
    "print(x[::-1])"
   ]
  },
  {
   "cell_type": "code",
   "execution_count": 59,
   "id": "8878e84e",
   "metadata": {},
   "outputs": [
    {
     "data": {
      "text/plain": [
       "[1, 2, 'A', 'c', True]"
      ]
     },
     "execution_count": 59,
     "metadata": {},
     "output_type": "execute_result"
    }
   ],
   "source": [
    "x[:5]"
   ]
  },
  {
   "cell_type": "code",
   "execution_count": 65,
   "id": "6d8b1226",
   "metadata": {},
   "outputs": [
    {
     "data": {
      "text/plain": [
       "[1, 2, 'A', 'c', True]"
      ]
     },
     "execution_count": 65,
     "metadata": {},
     "output_type": "execute_result"
    }
   ],
   "source": [
    "x[-6:-1]\n"
   ]
  },
  {
   "cell_type": "code",
   "execution_count": 66,
   "id": "64208409",
   "metadata": {},
   "outputs": [
    {
     "data": {
      "text/plain": [
       "[1, 'A', True]"
      ]
     },
     "execution_count": 66,
     "metadata": {},
     "output_type": "execute_result"
    }
   ],
   "source": [
    "x[::2]"
   ]
  },
  {
   "cell_type": "code",
   "execution_count": 68,
   "id": "d2ae5fad",
   "metadata": {},
   "outputs": [
    {
     "data": {
      "text/plain": [
       "[1, 'c']"
      ]
     },
     "execution_count": 68,
     "metadata": {},
     "output_type": "execute_result"
    }
   ],
   "source": [
    "x[::3]"
   ]
  },
  {
   "cell_type": "code",
   "execution_count": 71,
   "id": "3518ea73",
   "metadata": {},
   "outputs": [
    {
     "data": {
      "text/plain": [
       "[12.2, 'c', 2]"
      ]
     },
     "execution_count": 71,
     "metadata": {},
     "output_type": "execute_result"
    }
   ],
   "source": [
    "x[::-2]"
   ]
  },
  {
   "cell_type": "code",
   "execution_count": 72,
   "id": "e4452ace",
   "metadata": {},
   "outputs": [
    {
     "data": {
      "text/plain": [
       "[]"
      ]
     },
     "execution_count": 72,
     "metadata": {},
     "output_type": "execute_result"
    }
   ],
   "source": [
    "x[-1:-4]"
   ]
  },
  {
   "cell_type": "code",
   "execution_count": null,
   "id": "25366813",
   "metadata": {},
   "outputs": [],
   "source": []
  }
 ],
 "metadata": {
  "kernelspec": {
   "display_name": "Python 3 (ipykernel)",
   "language": "python",
   "name": "python3"
  },
  "language_info": {
   "codemirror_mode": {
    "name": "ipython",
    "version": 3
   },
   "file_extension": ".py",
   "mimetype": "text/x-python",
   "name": "python",
   "nbconvert_exporter": "python",
   "pygments_lexer": "ipython3",
   "version": "3.9.7"
  }
 },
 "nbformat": 4,
 "nbformat_minor": 5
}
