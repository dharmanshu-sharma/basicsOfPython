{
 "cells": [
  {
   "cell_type": "code",
   "execution_count": 1,
   "id": "e2909ee2-e508-4160-8523-c3868ca53f37",
   "metadata": {},
   "outputs": [],
   "source": [
    "class math:\n",
    "    def area(self,pi,r):\n",
    "        print(\"area is:\",pi*r**2)\n",
    "    def volCyl(self,pi,r,h):\n",
    "        print(\"vol of cyl is:\",pi*r**2*h)"
   ]
  },
  {
   "cell_type": "code",
   "execution_count": 2,
   "id": "d0cacfbb-662d-4b63-96ef-17ef1fdc3339",
   "metadata": {},
   "outputs": [
    {
     "name": "stdout",
     "output_type": "stream",
     "text": [
      "area is: 314.0\n",
      "vol of cyl is: 3140.0\n"
     ]
    }
   ],
   "source": [
    "obj=math()\n",
    "obj.area(3.14,10)\n",
    "obj.volCyl(3.14,10,10)"
   ]
  },
  {
   "cell_type": "code",
   "execution_count": 3,
   "id": "f05b5a58-aa9b-41f2-818b-8a3997d062dd",
   "metadata": {},
   "outputs": [],
   "source": [
    "class area:\n",
    "    def areaTriangle(self,base,height):\n",
    "        area=0.5*base*height\n",
    "        print(\"Area of triangle is:\",area)\n",
    "    def areaCylinder(self,height,radius):\n",
    "        area=2*3.1415*radius*height\n",
    "        print(\"open area of cylinder is:\",area)"
   ]
  },
  {
   "cell_type": "code",
   "execution_count": 4,
   "id": "4e908459-8bb4-4707-a11e-43fd2bee03cd",
   "metadata": {},
   "outputs": [
    {
     "name": "stdout",
     "output_type": "stream",
     "text": [
      "Area of triangle is: 50.0\n",
      "open area of cylinder is: 628.3000000000001\n"
     ]
    }
   ],
   "source": [
    "obj1=area()\n",
    "obj1.areaTriangle(10,10)\n",
    "obj1.areaCylinder(10,10)"
   ]
  },
  {
   "cell_type": "code",
   "execution_count": 7,
   "id": "132c41dc-0ea2-4319-bcda-f6afd8fcf4f7",
   "metadata": {},
   "outputs": [],
   "source": [
    "class math:\n",
    "    def __init__(self,pi):\n",
    "        self.pi=pi #creating class level variable\n",
    "    def area(self,r):\n",
    "        print(\"area is:\",self.pi*r**2)#accessing class variable\n",
    "    def volCyl(self,r,h):\n",
    "        print(\"vol of cyl is:\",self.pi*r**2*h)"
   ]
  },
  {
   "cell_type": "code",
   "execution_count": 8,
   "id": "9ac122cc-3946-4f17-b77d-f4c3beedf932",
   "metadata": {},
   "outputs": [
    {
     "name": "stdout",
     "output_type": "stream",
     "text": [
      "area is: 314.0\n",
      "vol of cyl is: 3140.0\n"
     ]
    }
   ],
   "source": [
    "obj=math(3.14)\n",
    "obj.area(10)\n",
    "obj.volCyl(10,10)"
   ]
  },
  {
   "cell_type": "code",
   "execution_count": 10,
   "id": "e1a05ba9-c2a9-4d71-b583-cbcf079ef855",
   "metadata": {},
   "outputs": [],
   "source": [
    "class area:\n",
    "    def __init__(self,pi):\n",
    "        self.pi=pi\n",
    "    def areaTriangle(self,base,height):\n",
    "        area=0.5*base*height\n",
    "        print(\"Area of triangle is:\",area)\n",
    "    def areaCylinder(self,height,radius):\n",
    "        area=2*self.pi*radius*height\n",
    "        print(\"open area of cylinder is:\",area)"
   ]
  },
  {
   "cell_type": "code",
   "execution_count": 12,
   "id": "829efe58-a38f-473b-b058-ff3a629e709e",
   "metadata": {},
   "outputs": [
    {
     "name": "stdout",
     "output_type": "stream",
     "text": [
      "Area of triangle is: 50.0\n",
      "open area of cylinder is: 628.0\n"
     ]
    }
   ],
   "source": [
    "obj1=area(3.14)\n",
    "obj1.areaTriangle(10,10)\n",
    "obj1.areaCylinder(10,10)"
   ]
  },
  {
   "cell_type": "code",
   "execution_count": 16,
   "id": "067b24d2-1442-46a9-9b46-4b460684bbb9",
   "metadata": {},
   "outputs": [],
   "source": [
    "from multipledispatch import dispatch\n",
    "class math:\n",
    "    def __init__(self,pi):\n",
    "        self.pi=pi #creating class level variable\n",
    "    @dispatch(int)\n",
    "    def area(self,r):\n",
    "        print(\"area of circle is:\",self.pi*r**2)#accessing class variable\n",
    "\n",
    "    @dispatch(float,float)\n",
    "    def area(self,r,h):\n",
    "        print(\"area of cyl is:\",2*self.pi*r*h)\n",
    "    \n",
    "    @dispatch(int,int)\n",
    "    def area(self,b,h):\n",
    "        print(\"area of triangle is:\",0.5*b*h)"
   ]
  },
  {
   "cell_type": "code",
   "execution_count": 18,
   "id": "8ce8ae6c-8727-4fcf-bcdb-3c1e0549ab3e",
   "metadata": {},
   "outputs": [
    {
     "name": "stdout",
     "output_type": "stream",
     "text": [
      "area of circle is: 314.0\n",
      "area of triangle is: 50.0\n",
      "area of cyl is: 659.4\n"
     ]
    }
   ],
   "source": [
    "obj=math(3.14)\n",
    "obj.area(10)\n",
    "obj.area(10,10)#will call area of triangle is both parameter are integer\n",
    "obj.area(10.5,10.0)#area of cylinder as both inputs are float."
   ]
  },
  {
   "cell_type": "code",
   "execution_count": 30,
   "id": "1eb00fa4-ffdc-4f99-93ff-df2eda2814c0",
   "metadata": {},
   "outputs": [],
   "source": [
    "#constructure overloading\n",
    "#for implement constructure overloading we require multiple object\n",
    "from multipledispatch import dispatch\n",
    "class Message:\n",
    "    @dispatch()\n",
    "    def __init__(self):\n",
    "        print(\"default constructor\")\n",
    "    @dispatch(str,str)\n",
    "    def __init__(self,name,msg):\n",
    "        print(\"welcome\",name,msg)"
   ]
  },
  {
   "cell_type": "code",
   "execution_count": 31,
   "id": "a834efbb-9d0a-4bab-855e-56a7bbf8554e",
   "metadata": {},
   "outputs": [
    {
     "name": "stdout",
     "output_type": "stream",
     "text": [
      "default constructor\n",
      "welcome sumit submit your fee\n"
     ]
    }
   ],
   "source": [
    "obj=Message()\n",
    "obj1=Message(\"sumit\",\"submit your fee\")"
   ]
  },
  {
   "cell_type": "code",
   "execution_count": 8,
   "id": "da956345-bec5-45b5-a5d3-6a665a3072a0",
   "metadata": {},
   "outputs": [],
   "source": [
    "#inhertence\n",
    "class math:\n",
    "    def __init__(self,pi):\n",
    "        print(\"In base class constructor\")\n",
    "        self.pi=pi #creating class level variable\n",
    "    def area(self,r):\n",
    "        print(\"area of cirlce:\",self.pi*r**2)#accessing class variable\n",
    "    def volCyl(self,r,h):\n",
    "        print(\"vol of cyl is:\",self.pi*r**2*h)\n",
    "class newmath(math):\n",
    "    def openCyl(self,r,h):\n",
    "        print(\"area of open cyl is:\",2*self.pi*r*h)#accessing pi of base class"
   ]
  },
  {
   "cell_type": "code",
   "execution_count": 9,
   "id": "2e108b0c-97d3-4832-9ca3-a2fac0058d15",
   "metadata": {},
   "outputs": [
    {
     "name": "stdout",
     "output_type": "stream",
     "text": [
      "In base class constructor\n",
      "area of open cyl is: 628.0\n",
      "vol of cyl is: 3140.0\n"
     ]
    }
   ],
   "source": [
    "obj=newmath(3.14)\n",
    "obj.openCyl(10,10)\n",
    "obj.volCyl(10,10)"
   ]
  },
  {
   "cell_type": "code",
   "execution_count": null,
   "id": "29ae7653-a4df-4b39-ae32-6c2af619d11b",
   "metadata": {},
   "outputs": [],
   "source": []
  },
  {
   "cell_type": "code",
   "execution_count": 36,
   "id": "b5ada6ee-669c-4b67-8253-a49332ae22ad",
   "metadata": {},
   "outputs": [],
   "source": [
    "# assignment-lab3 dictionary question with class and object\n",
    "li=[{\"id\":1,\"name\":\"akash\",\"contact\":\"1234123412\",\"class\":\"I year\"},\n",
    "    {\"id\":2,\"name\":\"anil\",\"contact\":\"3456335667\",\"class\":\"II year\"},\n",
    "    {\"id\":3,\"name\":\"amit\",\"contact\":\"1234127898\",\"class\":\"III year\"},\n",
    "    {\"id\":4,\"name\":\"ankit\",\"contact\":\"1234124565\",\"class\":\"IV year\"},\n",
    "   ]"
   ]
  },
  {
   "cell_type": "code",
   "execution_count": 37,
   "id": "5a4b9378-3380-423f-8422-1aae334433f1",
   "metadata": {},
   "outputs": [],
   "source": [
    "class dataSet:\n",
    "    def __init__(self,l):\n",
    "        self.li=l\n",
    "        \n",
    "    def SearchStudent(self,name):\n",
    "        counter=0\n",
    "        for data in self.li:\n",
    "            if data[\"name\"]==name:\n",
    "                print(data)\n",
    "                counter+=1\n",
    "        if counter==0:\n",
    "            print(\"not found\")\n",
    "    \n",
    "    def updateContact(self,name):\n",
    "        counter=0\n",
    "        for data in self.li:\n",
    "            if data[\"name\"]==name:\n",
    "                print(data)\n",
    "                counter+=1\n",
    "                NewContact=input(\"enter new number:\")\n",
    "                data[\"contact\"]=NewContact\n",
    "                print(data)\n",
    "        if counter==0:\n",
    "            print(\"not found\")\n",
    "        \n",
    "    \n",
    "    def delStu(self,name):\n",
    "        count=0\n",
    "        for data in self.li:\n",
    "            if data[\"name\"]==name:\n",
    "                count+=1\n",
    "                print(\"related data found\")\n",
    "                self.li.remove(data)\n",
    "                print(\"remaining database:\",self.li)\n",
    "        if count==0:\n",
    "            print(\"related emplyee data not found\")\n",
    "    \n",
    "    "
   ]
  },
  {
   "cell_type": "code",
   "execution_count": 38,
   "id": "6d93df88-7d83-440d-afeb-0e6d08819406",
   "metadata": {},
   "outputs": [
    {
     "name": "stdout",
     "output_type": "stream",
     "text": [
      "{'id': 3, 'name': 'amit', 'contact': '1234127898', 'class': 'III year'}\n"
     ]
    }
   ],
   "source": [
    "obj=dataSet(li)#li is list which is passed for constructor\n",
    "obj.SearchStudent(\"amit\")"
   ]
  },
  {
   "cell_type": "code",
   "execution_count": 39,
   "id": "143587ae-2ef2-40dd-abeb-e9b8fa0c6335",
   "metadata": {},
   "outputs": [
    {
     "name": "stdout",
     "output_type": "stream",
     "text": [
      "related data found\n",
      "remaining database: [{'id': 1, 'name': 'akash', 'contact': '1234123412', 'class': 'I year'}, {'id': 3, 'name': 'amit', 'contact': '1234127898', 'class': 'III year'}, {'id': 4, 'name': 'ankit', 'contact': '1234124565', 'class': 'IV year'}]\n"
     ]
    }
   ],
   "source": [
    "obj.delStu(\"anil\")"
   ]
  },
  {
   "cell_type": "code",
   "execution_count": 40,
   "id": "181f55bc-7d2b-4c2f-af64-74908451e0fd",
   "metadata": {},
   "outputs": [
    {
     "name": "stdout",
     "output_type": "stream",
     "text": [
      "{'id': 3, 'name': 'amit', 'contact': '1234127898', 'class': 'III year'}\n"
     ]
    },
    {
     "name": "stdin",
     "output_type": "stream",
     "text": [
      "enter new number: 1111111111\n"
     ]
    },
    {
     "name": "stdout",
     "output_type": "stream",
     "text": [
      "{'id': 3, 'name': 'amit', 'contact': '1111111111', 'class': 'III year'}\n"
     ]
    }
   ],
   "source": [
    "obj.updateContact(\"amit\")"
   ]
  },
  {
   "cell_type": "code",
   "execution_count": null,
   "id": "ffc4311a-50f4-49cb-9b95-35207a20fd45",
   "metadata": {},
   "outputs": [],
   "source": []
  }
 ],
 "metadata": {
  "kernelspec": {
   "display_name": "Python 3 (ipykernel)",
   "language": "python",
   "name": "python3"
  },
  "language_info": {
   "codemirror_mode": {
    "name": "ipython",
    "version": 3
   },
   "file_extension": ".py",
   "mimetype": "text/x-python",
   "name": "python",
   "nbconvert_exporter": "python",
   "pygments_lexer": "ipython3",
   "version": "3.9.7"
  }
 },
 "nbformat": 4,
 "nbformat_minor": 5
}
